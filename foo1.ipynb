{
 "cells": [
  {
   "cell_type": "code",
   "execution_count": 57,
   "id": "525d2d96",
   "metadata": {},
   "outputs": [],
   "source": [
    "import pandas as pd, numpy as np\n",
    "from glob import glob\n",
    "import os\n",
    "from multiprocessing import Pool\n",
    "from tqdm import tqdm"
   ]
  },
  {
   "cell_type": "markdown",
   "id": "c6daad4e",
   "metadata": {},
   "source": [
    "# Get the coverage of RNA reads around each L1 element"
   ]
  },
  {
   "cell_type": "code",
   "execution_count": 58,
   "id": "77cdb731",
   "metadata": {},
   "outputs": [],
   "source": [
    "TEs = pd.read_csv('/cndd3/dburrows/DATA/annotations/rmsk/rmsk.hg38.filt-5ptrim.merge.rerr.bed',sep='\\t',\n",
    "                  names=['chr','start','end','TEtype','TEfamily','strand','TEclass','length','TSS_start','TSS_end'])"
   ]
  },
  {
   "cell_type": "code",
   "execution_count": 59,
   "id": "552ebd50",
   "metadata": {},
   "outputs": [
    {
     "data": {
      "text/plain": [
       "L1HS    177\n",
       "Name: TEfamily, dtype: int64"
      ]
     },
     "execution_count": 59,
     "metadata": {},
     "output_type": "execute_result"
    }
   ],
   "source": [
    "TEs[TEs['TEfamily'].isin(['L1HS'])]['TEfamily'].value_counts()\n",
    "# TEs[(TEs['TEtype']=='L1')&(TEs['TEfamily'].str.contains('L1PA') | TEs['TEfamily'].str.contains('L1HS'))]['TEfamily'].value_counts()"
   ]
  },
  {
   "cell_type": "code",
   "execution_count": 66,
   "id": "7fd48c2c",
   "metadata": {},
   "outputs": [
    {
     "data": {
      "text/html": [
       "<div>\n",
       "<style scoped>\n",
       "    .dataframe tbody tr th:only-of-type {\n",
       "        vertical-align: middle;\n",
       "    }\n",
       "\n",
       "    .dataframe tbody tr th {\n",
       "        vertical-align: top;\n",
       "    }\n",
       "\n",
       "    .dataframe thead th {\n",
       "        text-align: right;\n",
       "    }\n",
       "</style>\n",
       "<table border=\"1\" class=\"dataframe\">\n",
       "  <thead>\n",
       "    <tr style=\"text-align: right;\">\n",
       "      <th></th>\n",
       "      <th>index</th>\n",
       "      <th>chr</th>\n",
       "      <th>start</th>\n",
       "      <th>end</th>\n",
       "      <th>TEtype</th>\n",
       "      <th>TEfamily</th>\n",
       "      <th>strand</th>\n",
       "      <th>TEclass</th>\n",
       "      <th>length</th>\n",
       "      <th>TSS_start</th>\n",
       "      <th>TSS_end</th>\n",
       "    </tr>\n",
       "  </thead>\n",
       "  <tbody>\n",
       "    <tr>\n",
       "      <th>0</th>\n",
       "      <td>0</td>\n",
       "      <td>chr1</td>\n",
       "      <td>440936</td>\n",
       "      <td>447357</td>\n",
       "      <td>L1</td>\n",
       "      <td>L1PA7</td>\n",
       "      <td>+</td>\n",
       "      <td>LINE</td>\n",
       "      <td>6463</td>\n",
       "      <td>440886</td>\n",
       "      <td>440986</td>\n",
       "    </tr>\n",
       "    <tr>\n",
       "      <th>1</th>\n",
       "      <td>1</td>\n",
       "      <td>chr1</td>\n",
       "      <td>675912</td>\n",
       "      <td>682333</td>\n",
       "      <td>L1</td>\n",
       "      <td>L1PA7</td>\n",
       "      <td>+</td>\n",
       "      <td>LINE</td>\n",
       "      <td>6463</td>\n",
       "      <td>675862</td>\n",
       "      <td>675962</td>\n",
       "    </tr>\n",
       "    <tr>\n",
       "      <th>2</th>\n",
       "      <td>2</td>\n",
       "      <td>chr1</td>\n",
       "      <td>25506586</td>\n",
       "      <td>25512707</td>\n",
       "      <td>L1</td>\n",
       "      <td>L1PA2</td>\n",
       "      <td>+</td>\n",
       "      <td>LINE</td>\n",
       "      <td>6019</td>\n",
       "      <td>25506536</td>\n",
       "      <td>25506636</td>\n",
       "    </tr>\n",
       "    <tr>\n",
       "      <th>3</th>\n",
       "      <td>4</td>\n",
       "      <td>chr1</td>\n",
       "      <td>30493390</td>\n",
       "      <td>30499556</td>\n",
       "      <td>L1</td>\n",
       "      <td>L1PA4</td>\n",
       "      <td>+</td>\n",
       "      <td>LINE</td>\n",
       "      <td>6151</td>\n",
       "      <td>30493340</td>\n",
       "      <td>30493440</td>\n",
       "    </tr>\n",
       "    <tr>\n",
       "      <th>4</th>\n",
       "      <td>5</td>\n",
       "      <td>chr1</td>\n",
       "      <td>33671998</td>\n",
       "      <td>33678118</td>\n",
       "      <td>L1</td>\n",
       "      <td>L1PA4</td>\n",
       "      <td>+</td>\n",
       "      <td>LINE</td>\n",
       "      <td>6151</td>\n",
       "      <td>33671948</td>\n",
       "      <td>33672048</td>\n",
       "    </tr>\n",
       "    <tr>\n",
       "      <th>...</th>\n",
       "      <td>...</td>\n",
       "      <td>...</td>\n",
       "      <td>...</td>\n",
       "      <td>...</td>\n",
       "      <td>...</td>\n",
       "      <td>...</td>\n",
       "      <td>...</td>\n",
       "      <td>...</td>\n",
       "      <td>...</td>\n",
       "      <td>...</td>\n",
       "      <td>...</td>\n",
       "    </tr>\n",
       "    <tr>\n",
       "      <th>5668</th>\n",
       "      <td>474909</td>\n",
       "      <td>chrX</td>\n",
       "      <td>155299576</td>\n",
       "      <td>155305601</td>\n",
       "      <td>L1</td>\n",
       "      <td>L1PA2</td>\n",
       "      <td>-</td>\n",
       "      <td>LINE</td>\n",
       "      <td>6031</td>\n",
       "      <td>155305551</td>\n",
       "      <td>155305651</td>\n",
       "    </tr>\n",
       "    <tr>\n",
       "      <th>5669</th>\n",
       "      <td>474910</td>\n",
       "      <td>chrX</td>\n",
       "      <td>155481358</td>\n",
       "      <td>155487841</td>\n",
       "      <td>L1</td>\n",
       "      <td>L1PA13</td>\n",
       "      <td>-</td>\n",
       "      <td>LINE</td>\n",
       "      <td>7597</td>\n",
       "      <td>155487791</td>\n",
       "      <td>155487891</td>\n",
       "    </tr>\n",
       "    <tr>\n",
       "      <th>5670</th>\n",
       "      <td>474911</td>\n",
       "      <td>chrX</td>\n",
       "      <td>155516017</td>\n",
       "      <td>155522048</td>\n",
       "      <td>L1</td>\n",
       "      <td>L1HS</td>\n",
       "      <td>-</td>\n",
       "      <td>LINE</td>\n",
       "      <td>6031</td>\n",
       "      <td>155521998</td>\n",
       "      <td>155522098</td>\n",
       "    </tr>\n",
       "    <tr>\n",
       "      <th>5671</th>\n",
       "      <td>474912</td>\n",
       "      <td>chrX</td>\n",
       "      <td>155912364</td>\n",
       "      <td>155918771</td>\n",
       "      <td>L1</td>\n",
       "      <td>L1PA7</td>\n",
       "      <td>-</td>\n",
       "      <td>LINE</td>\n",
       "      <td>6465</td>\n",
       "      <td>155918721</td>\n",
       "      <td>155918821</td>\n",
       "    </tr>\n",
       "    <tr>\n",
       "      <th>5672</th>\n",
       "      <td>474913</td>\n",
       "      <td>chrX</td>\n",
       "      <td>155930718</td>\n",
       "      <td>155936823</td>\n",
       "      <td>L1</td>\n",
       "      <td>L1PA5</td>\n",
       "      <td>-</td>\n",
       "      <td>LINE</td>\n",
       "      <td>6136</td>\n",
       "      <td>155936773</td>\n",
       "      <td>155936873</td>\n",
       "    </tr>\n",
       "  </tbody>\n",
       "</table>\n",
       "<p>5673 rows × 11 columns</p>\n",
       "</div>"
      ],
      "text/plain": [
       "       index   chr      start        end TEtype TEfamily strand TEclass  \\\n",
       "0          0  chr1     440936     447357     L1    L1PA7      +    LINE   \n",
       "1          1  chr1     675912     682333     L1    L1PA7      +    LINE   \n",
       "2          2  chr1   25506586   25512707     L1    L1PA2      +    LINE   \n",
       "3          4  chr1   30493390   30499556     L1    L1PA4      +    LINE   \n",
       "4          5  chr1   33671998   33678118     L1    L1PA4      +    LINE   \n",
       "...      ...   ...        ...        ...    ...      ...    ...     ...   \n",
       "5668  474909  chrX  155299576  155305601     L1    L1PA2      -    LINE   \n",
       "5669  474910  chrX  155481358  155487841     L1   L1PA13      -    LINE   \n",
       "5670  474911  chrX  155516017  155522048     L1     L1HS      -    LINE   \n",
       "5671  474912  chrX  155912364  155918771     L1    L1PA7      -    LINE   \n",
       "5672  474913  chrX  155930718  155936823     L1    L1PA5      -    LINE   \n",
       "\n",
       "      length  TSS_start    TSS_end  \n",
       "0       6463     440886     440986  \n",
       "1       6463     675862     675962  \n",
       "2       6019   25506536   25506636  \n",
       "3       6151   30493340   30493440  \n",
       "4       6151   33671948   33672048  \n",
       "...      ...        ...        ...  \n",
       "5668    6031  155305551  155305651  \n",
       "5669    7597  155487791  155487891  \n",
       "5670    6031  155521998  155522098  \n",
       "5671    6465  155918721  155918821  \n",
       "5672    6136  155936773  155936873  \n",
       "\n",
       "[5673 rows x 11 columns]"
      ]
     },
     "execution_count": 66,
     "metadata": {},
     "output_type": "execute_result"
    }
   ],
   "source": [
    "# L1 = TEs.loc[TEs['TEfamily'].isin(['L1HS']) & (TEs['chr']!='chrY') & (~TEs['chr'].str.contains('_'))].reset_index()\n",
    "L1 = TEs.loc[(TEs['TEfamily'].isin(['L1HS'])| TEs['TEfamily'].str.startswith('L1PA'))\n",
    "             & (TEs['chr']!='chrY') & (~TEs['chr'].str.contains('_'))].reset_index()\n",
    "L1"
   ]
  },
  {
   "cell_type": "code",
   "execution_count": 61,
   "id": "df1544a3",
   "metadata": {},
   "outputs": [],
   "source": [
    "binsize=1000\n",
    "\n",
    "L1bins=[]\n",
    "for i in L1.index:\n",
    "  if L1.loc[i,'strand']=='+':\n",
    "    bins = L1.loc[i,'start'] + np.arange(-50000,50000,binsize)\n",
    "  else:\n",
    "    bins = L1.loc[i,'end'] + np.arange(50000,-50000,-binsize)-binsize\n",
    "  \n",
    "  bins_df=pd.DataFrame(index=np.arange(-50000,50000,binsize))\n",
    "  bins_df['start']=bins\n",
    "  bins_df['end']=bins+binsize\n",
    "  bins_df['chr']=L1.loc[i,'chr']\n",
    "  bins_df['L1_start']=L1.loc[i,'start']\n",
    "  bins_df['L1_end']=L1.loc[i,'end']\n",
    "  bins_df['strand']=L1.loc[i,'strand']\n",
    "  bins_df['L1_id'] = bins_df['chr']+'_'+bins_df['L1_start'].astype(str)+'_bin'+bins_df.index.astype(str)\n",
    "  \n",
    "  L1bins.append(bins_df)\n",
    "  \n",
    "L1_bins=pd.concat(L1bins).reset_index(drop=True)\n",
    "L1_bins['-']='-'\n",
    "L1_bins = L1_bins[['chr','start','end','L1_id','-','strand']]"
   ]
  },
  {
   "cell_type": "code",
   "execution_count": 62,
   "id": "c3f7c5ec",
   "metadata": {},
   "outputs": [],
   "source": [
    "L1_bins=L1_bins.sort_values(['chr','start'])"
   ]
  },
  {
   "cell_type": "code",
   "execution_count": 63,
   "id": "9715ec3e",
   "metadata": {},
   "outputs": [],
   "source": [
    "L1_bins.to_csv('L1_bins.tsv',sep='\\t',header=False,index=False)\n",
    "!bedtools sort -g hg38.chroms -i L1_bins.tsv > L1_bins.sorted.tsv\n",
    "!bedtools merge -i L1_bins.sorted.tsv > L1_bins.merged.bed"
   ]
  },
  {
   "cell_type": "code",
   "execution_count": 64,
   "id": "4730aee3",
   "metadata": {},
   "outputs": [],
   "source": [
    "def my_bedcov(samplepath,qthresh=30):\n",
    "  sample=samplepath.split('/')[-1]\n",
    "  bam=f'/cndd3/dburrows/DATA/te/rna/PE.bam/{sample}/Aligned.sortedByCoord.out.bam'\n",
    "  outfile=f'L1_bins.{sample}.q{qthresh}.sense.coverage.bed'\n",
    "  cmd=f'/usr/bin/samtools view -q {qthresh} -M -f64 -b -L L1_bins.merged.bed {bam} | '\n",
    "  cmd+=f' bedtools coverage -sorted -c -s -a L1_bins.sorted.tsv -b - > {outfile} '\n",
    "  os.system(cmd)\n",
    "  cmd=f'/usr/bin/samtools view -q {qthresh} -M -f128 -b -L L1_bins.merged.bed {bam} | '\n",
    "  cmd+=f' bedtools coverage -sorted -c -S -a L1_bins.sorted.tsv -b - >> {outfile} '\n",
    "  os.system(cmd)\n",
    "\n",
    "  outfile=f'L1_bins.{sample}.q{qthresh}.antisense.coverage.bed'\n",
    "  cmd=f'/usr/bin/samtools view -q {qthresh} -M -f64 -b -L L1_bins.merged.bed {bam} | '\n",
    "  cmd+=f' bedtools coverage -sorted -c -S -a L1_bins.sorted.tsv -b - > {outfile} '\n",
    "  os.system(cmd)\n",
    "  cmd=f'/usr/bin/samtools view -q {qthresh} -M -f128 -b -L L1_bins.merged.bed {bam} | '\n",
    "  cmd+=f' bedtools coverage -sorted -c -s -a L1_bins.sorted.tsv -b - >> {outfile} '\n",
    "  os.system(cmd)\n"
   ]
  },
  {
   "cell_type": "code",
   "execution_count": 65,
   "id": "3a207a7d",
   "metadata": {
    "scrolled": true
   },
   "outputs": [
    {
     "name": "stderr",
     "output_type": "stream",
     "text": [
      "100%|██████████| 116/116 [07:32<00:00,  3.90s/it]\n"
     ]
    }
   ],
   "source": [
    "samples=glob('/cndd3/dburrows/DATA/te/rna/PE.bam/Sample*')\n",
    "with Pool() as p:\n",
    "  x=list(tqdm(p.imap(my_bedcov, samples),total=len(samples)))"
   ]
  },
  {
   "cell_type": "code",
   "execution_count": 50,
   "id": "2982bf75",
   "metadata": {
    "code_folding": []
   },
   "outputs": [
    {
     "name": "stderr",
     "output_type": "stream",
     "text": [
      "100%|██████████| 116/116 [1:50:04<00:00, 56.94s/it] \n"
     ]
    }
   ],
   "source": [
    "samples=glob('/cndd3/dburrows/DATA/te/rna/PE.bam/Sample*')\n",
    "qthresh=30\n",
    "# for sample in tqdm(samples):\n",
    "def my_libsize(sample):\n",
    "  sample_name=sample.split('/')[-1]\n",
    "  bam=f'{sample}/Aligned.sortedByCoord.out.bam'\n",
    "  os.system(f'samtools view -q {qthresh} -c {bam} > {sample_name}.q{qthresh}.libsize.txt')\n",
    "\n",
    "with Pool() as p:\n",
    "  list(tqdm(p.imap(my_libsize, samples),total=len(samples)))"
   ]
  }
 ],
 "metadata": {
  "kernelspec": {
   "display_name": "Python 3 (ipykernel)",
   "language": "python",
   "name": "python3"
  },
  "language_info": {
   "codemirror_mode": {
    "name": "ipython",
    "version": 3
   },
   "file_extension": ".py",
   "mimetype": "text/x-python",
   "name": "python",
   "nbconvert_exporter": "python",
   "pygments_lexer": "ipython3",
   "version": "3.9.7"
  }
 },
 "nbformat": 4,
 "nbformat_minor": 5
}
