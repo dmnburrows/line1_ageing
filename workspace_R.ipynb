{
 "cells": [
  {
   "cell_type": "code",
   "execution_count": 9,
   "metadata": {
    "vscode": {
     "languageId": "r"
    }
   },
   "outputs": [
    {
     "name": "stdout",
     "output_type": "stream",
     "text": [
      "[1] \"CGE_ADARB2_ADAM33_CountALU.\"\n",
      "[1] \"CGE_ADARB2_ADAM33_CountL1.\"\n",
      "[1] \"CGE_ADARB2_ADAM33_CountSVA.\"\n",
      "[1] \"CGE_LAMP5_CountALU.\"\n",
      "[1] \"CGE_LAMP5_CountL1.\"\n",
      "[1] \"CGE_LAMP5_CountSVA.\"\n",
      "[1] \"CGE_LAMP5_LHX6_CountALU.\"\n",
      "[1] \"CGE_LAMP5_LHX6_CountL1.\"\n",
      "[1] \"CGE_LAMP5_LHX6_CountSVA.\"\n",
      "[1] \"CGE_PAX6_CountALU.\"\n",
      "[1] \"CGE_PAX6_CountL1.\"\n",
      "[1] \"CGE_PAX6_CountSVA.\"\n",
      "[1] \"CGE_VIP_CountALU.\"\n",
      "[1] \"CGE_VIP_CountL1.\"\n",
      "[1] \"CGE_VIP_CountSVA.\"\n",
      "[1] \"Glia_Astro_CountALU.\"\n",
      "[1] \"Glia_Astro_CountL1.\"\n",
      "[1] \"Glia_Astro_CountSVA.\"\n",
      "[1] \"Glia_Oligo_CountALU.\"\n",
      "[1] \"Glia_Oligo_CountL1.\"\n",
      "[1] \"Glia_Oligo_CountSVA.\"\n",
      "[1] \"L2-4IT_CUX2_CountALU.\"\n",
      "[1] \"L2-4IT_CUX2_CountL1.\"\n",
      "[1] \"L2-4IT_CUX2_CountSVA.\"\n",
      "[1] \"L3-5IT_RORB_PLCH1_CountALU.\"\n",
      "[1] \"L3-5IT_RORB_PLCH1_CountL1.\"\n",
      "[1] \"L3-5IT_RORB_PLCH1_CountSVA.\"\n",
      "[1] \"L4-5IT_RORB_ARHGAP15_CountALU.\"\n",
      "[1] \"L4-5IT_RORB_ARHGAP15_CountL1.\"\n",
      "[1] \"L4-5IT_RORB_ARHGAP15_CountSVA.\"\n",
      "[1] \"L4-5IT_RORB_LRRK1_CountALU.\"\n",
      "[1] \"L4-5IT_RORB_LRRK1_CountL1.\"\n",
      "[1] \"L4-5IT_RORB_LRRK1_CountSVA.\"\n",
      "[1] \"L4-5IT_RORB_TSHZ2_CountALU.\"\n",
      "[1] \"L4-5IT_RORB_TSHZ2_CountL1.\"\n",
      "[1] \"L4-5IT_RORB_TSHZ2_CountSVA.\"\n",
      "[1] \"L56NP_TLE4_TSHZ2_CountALU.\"\n",
      "[1] \"L56NP_TLE4_TSHZ2_CountL1.\"\n",
      "[1] \"L56NP_TLE4_TSHZ2_CountSVA.\"\n",
      "[1] \"L6_CountALU.\"\n",
      "[1] \"L6_CountL1.\"\n",
      "[1] \"L6_CountSVA.\"\n",
      "[1] \"L6IT_THEMIS_CUX1_CountALU.\"\n",
      "[1] \"L6IT_THEMIS_CUX1_CountL1.\"\n",
      "[1] \"L6IT_THEMIS_CUX1_CountSVA.\"\n",
      "[1] \"L6IT_THEMIS_LINC00343_CountALU.\"\n",
      "[1] \"L6IT_THEMIS_LINC00343_CountL1.\"\n",
      "[1] \"L6IT_THEMIS_LINC00343_CountSVA.\"\n",
      "[1] \"MGE_PVALB_CountALU.\"\n",
      "[1] \"MGE_PVALB_CountL1.\"\n",
      "[1] \"MGE_PVALB_CountSVA.\"\n",
      "[1] \"MGE_SST_CLMP_CountALU.\"\n",
      "[1] \"MGE_SST_CLMP_CountL1.\"\n",
      "[1] \"MGE_SST_CLMP_CountSVA.\"\n",
      "[1] \"MGE_SST_CountALU.\"\n",
      "[1] \"MGE_SST_CountL1.\"\n",
      "[1] \"MGE_SST_CountSVA.\"\n"
     ]
    }
   ],
   "source": [
    "setwd(\"/cndd3/dburrows/DATA/te/rna/CZI.counts/DESEQ/\")\n",
    "coldata <- read.csv(\"ATEM_design.csv\", row.names=1)\n",
    "\n",
    "#Loop over all the files in the current directory\n",
    "files <- list.files(pattern=\"*.ATEM.csv\")\n",
    "\n",
    "#Loop over each csv in files and run DESEQ\n",
    "for(i in files) {                                          \n",
    "\n",
    "    #take the last 10 letters of i\n",
    "    sample <- substr(i, 1, nchar(i)-8)\n",
    "    output <- paste0(i, \".DESEQ_age.csv\")\n",
    "    print(sample)\n",
    "\n",
    "}\n"
   ]
  },
  {
   "cell_type": "code",
   "execution_count": 31,
   "metadata": {
    "vscode": {
     "languageId": "r"
    }
   },
   "outputs": [],
   "source": [
    "setwd(\"/cndd/dburrows/DATA/te/rna/PE.counts/DE/\")\n",
    "coldata <- read.csv(\"ATEM_design_categorical.csv\", row.names=1)\n",
    "cnts <- read.csv(\"ATEM_sub-COUNT.csv\", header=TRUE, check.names=FALSE, row.names=1)"
   ]
  },
  {
   "cell_type": "code",
   "execution_count": 32,
   "metadata": {
    "vscode": {
     "languageId": "r"
    }
   },
   "outputs": [
    {
     "name": "stderr",
     "output_type": "stream",
     "text": [
      "Warning message in DESeqDataSet(se, design = design, ignoreRank):\n",
      "“some variables in design formula are characters, converting to factors”\n",
      "estimating size factors\n",
      "\n",
      "estimating dispersions\n",
      "\n",
      "gene-wise dispersion estimates\n",
      "\n",
      "mean-dispersion relationship\n",
      "\n",
      "final dispersion estimates\n",
      "\n",
      "fitting model and testing\n",
      "\n"
     ]
    }
   ],
   "source": [
    "dds <-DESeqDataSetFromMatrix(countData=cnts, \n",
    "                              colData=coldata, \n",
    "                              design=~Cell.Type + sex + period) \n",
    "\n",
    "dds <- DESeq(dds)\n",
    "int_res <- results(dds, alpha=0.05)\n",
    "write.csv(as.data.frame(int_res), file=\"granular_DESEQ-age_categorical.csv\")\n"
   ]
  },
  {
   "cell_type": "code",
   "execution_count": 4,
   "metadata": {
    "vscode": {
     "languageId": "r"
    }
   },
   "outputs": [
    {
     "name": "stderr",
     "output_type": "stream",
     "text": [
      "Saving data from ATAC as /matrix\n",
      "\n"
     ]
    }
   ],
   "source": [
    "library(SeuratDisk)\n",
    "#convert seurat object to loom\n",
    "SeuratDisk::as.loom(data, filename = \"/cndd3/dburrows/DATA/singlecell_HIVOUD/230828_PFC_13samples_HVWs_combined.loom\")\n"
   ]
  }
 ],
 "metadata": {
  "kernelspec": {
   "display_name": "R",
   "language": "R",
   "name": "ir"
  },
  "language_info": {
   "codemirror_mode": "r",
   "file_extension": ".r",
   "mimetype": "text/x-r-source",
   "name": "R",
   "pygments_lexer": "r",
   "version": "4.2.2"
  },
  "orig_nbformat": 4
 },
 "nbformat": 4,
 "nbformat_minor": 2
}
