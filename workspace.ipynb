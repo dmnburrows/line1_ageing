{
 "cells": [
  {
   "cell_type": "code",
   "execution_count": 8,
   "metadata": {},
   "outputs": [],
   "source": [
    "import sys\n",
    "sys.path.insert(1, '/cndd3/dburrows/CODE/admin_tools/')\n",
    "from admin_tools import admin_functions as adm\n"
   ]
  },
  {
   "cell_type": "code",
   "execution_count": 9,
   "metadata": {},
   "outputs": [],
   "source": [
    "my_dict = {\n",
    "\n",
    "    \"in_path\":\"/cndd3/dburrows/DATA/te/rna/PE.bam\",\n",
    "    \"out_path\":\"/cndd3/dburrows/DATA/te/rna/PE.counts/ATEM\",\n",
    "    \"bed_plus_path\":\"/cndd3/dburrows/DATA/te/gtf/bed/rmsk.hg38.filt-5ptrim.plus.sort.bed\",\n",
    "    \"bed_minus_path\":\"/cndd3/dburrows/DATA/te/gtf/bed/rmsk.hg38.filt-5ptrim.minus.sort.bed\",\n",
    "\n",
    "}\n",
    "\n"
   ]
  },
  {
   "cell_type": "code",
   "execution_count": 11,
   "metadata": {},
   "outputs": [
    {
     "name": "stdout",
     "output_type": "stream",
     "text": [
      "Write successful\n",
      "Write successful\n"
     ]
    }
   ],
   "source": [
    "import os\n",
    "import glob\n",
    "os.chdir('/cndd3/dburrows/DATA/te/rna/PE.bam')\n",
    "GLU_dict = my_dict.copy()\n",
    "GLU_dict['ID'] = glob.glob('*Samp*GLU*')\n",
    "GABA_dict = my_dict.copy()\n",
    "GABA_dict['ID'] = glob.glob('*Samp*GABA*')\n",
    "assert len(GLU_dict['ID']) + len(GABA_dict['ID']) == len(glob.glob('*Samp*'))\n",
    "adm.make_config(GLU_dict, '/cndd3/dburrows/CODE/te_ageing/workflow.ATEM/config.PE-GLU.json')\n",
    "adm.make_config(GABA_dict, '/cndd3/dburrows/CODE/te_ageing/workflow.ATEM/config.PE-GABA.json')"
   ]
  },
  {
   "cell_type": "code",
   "execution_count": 12,
   "metadata": {},
   "outputs": [],
   "source": [
    "import os\n",
    "import glob\n",
    "os.chdir('/cndd3/dburrows/DATA/te/rna/PE.bam')\n",
    "l = glob.glob('*Samp**')\n",
    "for n in l:\n",
    "    os.mkdir('/cndd3/dburrows/DATA/te/rna/PE.counts/ATEM/' + n)"
   ]
  },
  {
   "cell_type": "code",
   "execution_count": 75,
   "metadata": {},
   "outputs": [
    {
     "name": "stdout",
     "output_type": "stream",
     "text": [
      "/cndd3/dburrows/DATA//te/rna/PE.fastq/merged//Sample_1848-GABA/ /cndd3/dburrows/DATA//te/rna/PE.fastq/merged//Sample_4332-GABA/\n"
     ]
    }
   ],
   "source": [
    "snakemake --use-conda --cores 16 --configfile config.PE-GLU.json >& /cndd3/dburrows/DATA/te/rna/PE.counts/ATEM/log.snakemake_run"
   ]
  },
  {
   "cell_type": "code",
   "execution_count": 71,
   "metadata": {},
   "outputs": [
    {
     "data": {
      "text/plain": [
       "90.50966799187809"
      ]
     },
     "execution_count": 71,
     "metadata": {},
     "output_type": "execute_result"
    }
   ],
   "source": [
    "2**6.5"
   ]
  },
  {
   "cell_type": "code",
   "execution_count": 68,
   "metadata": {},
   "outputs": [
    {
     "data": {
      "text/plain": [
       "75.33373895042536"
      ]
     },
     "execution_count": 68,
     "metadata": {},
     "output_type": "execute_result"
    }
   ],
   "source": [
    "np.exp(np.log2(20))"
   ]
  },
  {
   "cell_type": "code",
   "execution_count": 1,
   "metadata": {},
   "outputs": [],
   "source": [
    "#Check that all files are present\n",
    "import glob\n",
    "import os\n",
    "\n",
    "full_l = os.listdir('/cndd2/Public_Datasets/Dracheva_PsychEncode_development/raw_May2022/') \n",
    "os.chdir('/cndd3/dburrows/DATA/te/rna/PE.bam/')\n",
    "check_l = glob.glob('*Samp*')\n",
    "\n",
    "import numpy as np\n",
    "not_int = np.setxor1d(check_l, full_l)\n",
    "assert len(full_l) == len(check_l)\n",
    "assert len(not_int) == 0"
   ]
  },
  {
   "cell_type": "code",
   "execution_count": null,
   "metadata": {},
   "outputs": [],
   "source": [
    "STAR --genomeDir /cndd2/jchien/iGenome/STAR_gencode_v37 --readFilesIn  R1-merge.fastq.gz R1-merge.fastq.gz --outSAMunmapped None --outFilterType BySJout --outSAMattributes All --outFilterMultimapNmax 100 --outFilterMismatchNmax 999 --outFilterMismatchNoverReadLmax 0.04 --alignIntronMin 20 --alignIntronMax 1000000 --alignMatesGapMax 1000000 --alignSJoverhangMin 8 --alignSJDBoverhangMin 1 --sjdbScore 1 --readFilesCommand zcat --runThreadN 16--genomeLoad LoadAndKeep --limitBAMsortRAM 10000000000 --outSAMtype BAM SortedByCoordinate --quantMode TranscriptomeSAM GeneCounts --winAnchorMultimapNmax 200 --outMultimapperOrder Random --outSAMmultNmax -1"
   ]
  },
  {
   "cell_type": "code",
   "execution_count": 76,
   "metadata": {},
   "outputs": [],
   "source": [
    "# Check which files went to completion\n",
    "os.chdir('/cndd3/dburrows/DATA/te/rna/PE.bam/')\n",
    "check_l = glob.glob('*Samp*')\n",
    "for c in check_l:\n",
    "    os.chdir(c)\n",
    "    if check_log('Log.out', 'ALL DONE') == False:\n",
    "        print(c + ' incomplete Log file')\n",
    "    \n",
    "    if 'Aligned.sortedByCoord.out.bam.bai' not in os.listdir():\n",
    "        print(c + ' missing index file')\n",
    "\n",
    "    os.chdir('..')"
   ]
  }
 ],
 "metadata": {
  "kernelspec": {
   "display_name": "base",
   "language": "python",
   "name": "python3"
  },
  "language_info": {
   "codemirror_mode": {
    "name": "ipython",
    "version": 3
   },
   "file_extension": ".py",
   "mimetype": "text/x-python",
   "name": "python",
   "nbconvert_exporter": "python",
   "pygments_lexer": "ipython3",
   "version": "3.9.12"
  },
  "orig_nbformat": 4
 },
 "nbformat": 4,
 "nbformat_minor": 2
}
