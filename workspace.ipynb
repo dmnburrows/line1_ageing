{
 "cells": [
  {
   "cell_type": "code",
   "execution_count": 61,
   "metadata": {
    "vscode": {
     "languageId": "shellscript"
    }
   },
   "outputs": [
    {
     "name": "stdout",
     "output_type": "stream",
     "text": [
      "/cndd3/dburrows/DATA//te/rna/PE.fastq/merged//Sample_1133-GLU\n"
     ]
    }
   ],
   "source": [
    "%%bash\n",
    "\n",
    "#Define paths and variables\n",
    "inpath=$DATA3/te/rna/PE.fastq/merged/\n",
    "outpath=/cndd3/dburrows/DATA/te/rna/PE.fastq/trimmed\n",
    "id_arr=($(find $inpath/ -maxdepth 1 -name \"*Sample_1133*GLU*\"))\n",
    "\n",
    "#Loop over each sample\n",
    "for i in ${id_arr[@]}\n",
    "do\n",
    "    echo $i\n",
    "\n",
    "done"
   ]
  },
  {
   "cell_type": "code",
   "execution_count": 3,
   "metadata": {
    "vscode": {
     "languageId": "shellscript"
    }
   },
   "outputs": [
    {
     "name": "stdout",
     "output_type": "stream",
     "text": [
      "/cndd3/dburrows/DATA/te/rna/PE.fastq/trimmed/Sample_HCTYPA008-GLU/R1-merge_val_1.fq.gz /cndd3/dburrows/DATA/te/rna/PE.fastq/trimmed/Sample_HCTYPA008-GLU/R2-merge_val_2.fq.gz\n",
      "/cndd3/dburrows/DATA/te/rna/PE.fastq/trimmed/Sample_5086-GLU/R1-merge_val_1.fq.gz /cndd3/dburrows/DATA/te/rna/PE.fastq/trimmed/Sample_5086-GLU/R2-merge_val_2.fq.gz\n",
      "/cndd3/dburrows/DATA/te/rna/PE.fastq/trimmed/Sample_4379-GABA/R1-merge_val_1.fq.gz /cndd3/dburrows/DATA/te/rna/PE.fastq/trimmed/Sample_4379-GABA/R2-merge_val_2.fq.gz\n",
      "/cndd3/dburrows/DATA/te/rna/PE.fastq/trimmed/Sample_4332-GABA/R1-merge_val_1.fq.gz /cndd3/dburrows/DATA/te/rna/PE.fastq/trimmed/Sample_4332-GABA/R2-merge_val_2.fq.gz\n",
      "/cndd3/dburrows/DATA/te/rna/PE.fastq/trimmed/Sample_1848-GABA/R1-merge_val_1.fq.gz /cndd3/dburrows/DATA/te/rna/PE.fastq/trimmed/Sample_1848-GABA/R2-merge_val_2.fq.gz\n",
      "/cndd3/dburrows/DATA/te/rna/PE.fastq/trimmed/Sample_Hct17HEIA010-GABA/R1-merge_val_1.fq.gz /cndd3/dburrows/DATA/te/rna/PE.fastq/trimmed/Sample_Hct17HEIA010-GABA/R2-merge_val_2.fq.gz\n",
      "/cndd3/dburrows/DATA/te/rna/PE.fastq/trimmed/Sample_4369-GLU/R1-merge_val_1.fq.gz /cndd3/dburrows/DATA/te/rna/PE.fastq/trimmed/Sample_4369-GLU/R2-merge_val_2.fq.gz\n",
      "/cndd3/dburrows/DATA/te/rna/PE.fastq/trimmed/Sample_5744-GABA/R1-merge_val_1.fq.gz /cndd3/dburrows/DATA/te/rna/PE.fastq/trimmed/Sample_5744-GABA/R2-merge_val_2.fq.gz\n",
      "/cndd3/dburrows/DATA/te/rna/PE.fastq/trimmed/Sample_5401-GABA/R1-merge_val_1.fq.gz /cndd3/dburrows/DATA/te/rna/PE.fastq/trimmed/Sample_5401-GABA/R2-merge_val_2.fq.gz\n",
      "/cndd3/dburrows/DATA/te/rna/PE.fastq/trimmed/Sample_HCTZZNA014-GLU/R1-merge_val_1.fq.gz /cndd3/dburrows/DATA/te/rna/PE.fastq/trimmed/Sample_HCTZZNA014-GLU/R2-merge_val_2.fq.gz\n",
      "/cndd3/dburrows/DATA/te/rna/PE.fastq/trimmed/Sample_HCT16HCQA020-GLU/R1-merge_val_1.fq.gz /cndd3/dburrows/DATA/te/rna/PE.fastq/trimmed/Sample_HCT16HCQA020-GLU/R2-merge_val_2.fq.gz\n",
      "/cndd3/dburrows/DATA/te/rna/PE.fastq/trimmed/Sample_5293-GABA/R1-merge_val_1.fq.gz /cndd3/dburrows/DATA/te/rna/PE.fastq/trimmed/Sample_5293-GABA/R2-merge_val_2.fq.gz\n",
      "/cndd3/dburrows/DATA/te/rna/PE.fastq/trimmed/Sample_5871-GLU/R1-merge_val_1.fq.gz /cndd3/dburrows/DATA/te/rna/PE.fastq/trimmed/Sample_5871-GLU/R2-merge_val_2.fq.gz\n",
      "/cndd3/dburrows/DATA/te/rna/PE.fastq/trimmed/Sample_4411-GLU/R1-merge_val_1.fq.gz /cndd3/dburrows/DATA/te/rna/PE.fastq/trimmed/Sample_4411-GLU/R2-merge_val_2.fq.gz\n",
      "/cndd3/dburrows/DATA/te/rna/PE.fastq/trimmed/Sample_5309-GLU/R1-merge_val_1.fq.gz /cndd3/dburrows/DATA/te/rna/PE.fastq/trimmed/Sample_5309-GLU/R2-merge_val_2.fq.gz\n",
      "/cndd3/dburrows/DATA/te/rna/PE.fastq/trimmed/Sample_4425-GABA/R1-merge_val_1.fq.gz /cndd3/dburrows/DATA/te/rna/PE.fastq/trimmed/Sample_4425-GABA/R2-merge_val_2.fq.gz\n",
      "/cndd3/dburrows/DATA/te/rna/PE.fastq/trimmed/Sample_6007-GABA/R1-merge_val_1.fq.gz /cndd3/dburrows/DATA/te/rna/PE.fastq/trimmed/Sample_6007-GABA/R2-merge_val_2.fq.gz\n",
      "/cndd3/dburrows/DATA/te/rna/PE.fastq/trimmed/Sample_HCT15HBMA007-GLU/R1-merge_val_1.fq.gz /cndd3/dburrows/DATA/te/rna/PE.fastq/trimmed/Sample_HCT15HBMA007-GLU/R2-merge_val_2.fq.gz\n",
      "/cndd3/dburrows/DATA/te/rna/PE.fastq/trimmed/Sample_4414-GABA/R1-merge_val_1.fq.gz /cndd3/dburrows/DATA/te/rna/PE.fastq/trimmed/Sample_4414-GABA/R2-merge_val_2.fq.gz\n",
      "/cndd3/dburrows/DATA/te/rna/PE.fastq/trimmed/Sample_1133-GABA/R1-merge_val_1.fq.gz /cndd3/dburrows/DATA/te/rna/PE.fastq/trimmed/Sample_1133-GABA/R2-merge_val_2.fq.gz\n",
      "/cndd3/dburrows/DATA/te/rna/PE.fastq/trimmed/Sample_4369-GABA/R1-merge_val_1.fq.gz /cndd3/dburrows/DATA/te/rna/PE.fastq/trimmed/Sample_4369-GABA/R2-merge_val_2.fq.gz\n",
      "/cndd3/dburrows/DATA/te/rna/PE.fastq/trimmed/Sample_5977-GABA/R1-merge_val_1.fq.gz /cndd3/dburrows/DATA/te/rna/PE.fastq/trimmed/Sample_5977-GABA/R2-merge_val_2.fq.gz\n",
      "/cndd3/dburrows/DATA/te/rna/PE.fastq/trimmed/Sample_5871-GABA/R1-merge_val_1.fq.gz /cndd3/dburrows/DATA/te/rna/PE.fastq/trimmed/Sample_5871-GABA/R2-merge_val_2.fq.gz\n",
      "/cndd3/dburrows/DATA/te/rna/PE.fastq/trimmed/Sample_HCK16HECA028-GABA/R1-merge_val_1.fq.gz /cndd3/dburrows/DATA/te/rna/PE.fastq/trimmed/Sample_HCK16HECA028-GABA/R2-merge_val_2.fq.gz\n",
      "/cndd3/dburrows/DATA/te/rna/PE.fastq/trimmed/Sample_5446-GABA/R1-merge_val_1.fq.gz /cndd3/dburrows/DATA/te/rna/PE.fastq/trimmed/Sample_5446-GABA/R2-merge_val_2.fq.gz\n",
      "/cndd3/dburrows/DATA/te/rna/PE.fastq/trimmed/Sample_5936-GLU/R1-merge_val_1.fq.gz /cndd3/dburrows/DATA/te/rna/PE.fastq/trimmed/Sample_5936-GLU/R2-merge_val_2.fq.gz\n",
      "/cndd3/dburrows/DATA/te/rna/PE.fastq/trimmed/Sample_6032-GABA/R1-merge_val_1.fq.gz /cndd3/dburrows/DATA/te/rna/PE.fastq/trimmed/Sample_6032-GABA/R2-merge_val_2.fq.gz\n",
      "/cndd3/dburrows/DATA/te/rna/PE.fastq/trimmed/Sample_HCTZZNA014-GABA/R1-merge_val_1.fq.gz /cndd3/dburrows/DATA/te/rna/PE.fastq/trimmed/Sample_HCTZZNA014-GABA/R2-merge_val_2.fq.gz\n",
      "/cndd3/dburrows/DATA/te/rna/PE.fastq/trimmed/Sample_4545-GABA/R1-merge_val_1.fq.gz /cndd3/dburrows/DATA/te/rna/PE.fastq/trimmed/Sample_4545-GABA/R2-merge_val_2.fq.gz\n",
      "/cndd3/dburrows/DATA/te/rna/PE.fastq/trimmed/Sample_4725-GLU/R1-merge_val_1.fq.gz /cndd3/dburrows/DATA/te/rna/PE.fastq/trimmed/Sample_4725-GLU/R2-merge_val_2.fq.gz\n",
      "/cndd3/dburrows/DATA/te/rna/PE.fastq/trimmed/Sample_5976-GLU/R1-merge_val_1.fq.gz /cndd3/dburrows/DATA/te/rna/PE.fastq/trimmed/Sample_5976-GLU/R2-merge_val_2.fq.gz\n",
      "/cndd3/dburrows/DATA/te/rna/PE.fastq/trimmed/Sample_5387-GLU/R1-merge_val_1.fq.gz /cndd3/dburrows/DATA/te/rna/PE.fastq/trimmed/Sample_5387-GLU/R2-merge_val_2.fq.gz\n",
      "/cndd3/dburrows/DATA/te/rna/PE.fastq/trimmed/Sample_1539-GLU/R1-merge_val_1.fq.gz /cndd3/dburrows/DATA/te/rna/PE.fastq/trimmed/Sample_1539-GLU/R2-merge_val_2.fq.gz\n",
      "/cndd3/dburrows/DATA/te/rna/PE.fastq/trimmed/Sample_198035-1765-GLU/R1-merge_val_1.fq.gz /cndd3/dburrows/DATA/te/rna/PE.fastq/trimmed/Sample_198035-1765-GLU/R2-merge_val_2.fq.gz\n",
      "/cndd3/dburrows/DATA/te/rna/PE.fastq/trimmed/Sample_Hct15HBNA032-GLU/R1-merge_val_1.fq.gz /cndd3/dburrows/DATA/te/rna/PE.fastq/trimmed/Sample_Hct15HBNA032-GLU/R2-merge_val_2.fq.gz\n",
      "/cndd3/dburrows/DATA/te/rna/PE.fastq/trimmed/Sample_5570-GABA/R1-merge_val_1.fq.gz /cndd3/dburrows/DATA/te/rna/PE.fastq/trimmed/Sample_5570-GABA/R2-merge_val_2.fq.gz\n",
      "/cndd3/dburrows/DATA/te/rna/PE.fastq/trimmed/Sample_6285-GABA/R1-merge_val_1.fq.gz /cndd3/dburrows/DATA/te/rna/PE.fastq/trimmed/Sample_6285-GABA/R2-merge_val_2.fq.gz\n",
      "/cndd3/dburrows/DATA/te/rna/PE.fastq/trimmed/Sample_1823-GABA/R1-merge_val_1.fq.gz /cndd3/dburrows/DATA/te/rna/PE.fastq/trimmed/Sample_1823-GABA/R2-merge_val_2.fq.gz\n",
      "/cndd3/dburrows/DATA/te/rna/PE.fastq/trimmed/Sample_5976-GABA/R1-merge_val_1.fq.gz /cndd3/dburrows/DATA/te/rna/PE.fastq/trimmed/Sample_5976-GABA/R2-merge_val_2.fq.gz\n",
      "/cndd3/dburrows/DATA/te/rna/PE.fastq/trimmed/Sample_1277-GABA/R1-merge_val_1.fq.gz /cndd3/dburrows/DATA/te/rna/PE.fastq/trimmed/Sample_1277-GABA/R2-merge_val_2.fq.gz\n",
      "/cndd3/dburrows/DATA/te/rna/PE.fastq/trimmed/Sample_HCT16HCQA020-GABA/R1-merge_val_1.fq.gz /cndd3/dburrows/DATA/te/rna/PE.fastq/trimmed/Sample_HCT16HCQA020-GABA/R2-merge_val_2.fq.gz\n",
      "/cndd3/dburrows/DATA/te/rna/PE.fastq/trimmed/Sample_5643-GLU/R1-merge_val_1.fq.gz /cndd3/dburrows/DATA/te/rna/PE.fastq/trimmed/Sample_5643-GLU/R2-merge_val_2.fq.gz\n",
      "/cndd3/dburrows/DATA/te/rna/PE.fastq/trimmed/Sample_5161-GABA/R1-merge_val_1.fq.gz /cndd3/dburrows/DATA/te/rna/PE.fastq/trimmed/Sample_5161-GABA/R2-merge_val_2.fq.gz\n",
      "/cndd3/dburrows/DATA/te/rna/PE.fastq/trimmed/Sample_179134-1401-GLU/R1-merge_val_1.fq.gz /cndd3/dburrows/DATA/te/rna/PE.fastq/trimmed/Sample_179134-1401-GLU/R2-merge_val_2.fq.gz\n",
      "/cndd3/dburrows/DATA/te/rna/PE.fastq/trimmed/Sample_4321-GLU/R1-merge_val_1.fq.gz /cndd3/dburrows/DATA/te/rna/PE.fastq/trimmed/Sample_4321-GLU/R2-merge_val_2.fq.gz\n",
      "/cndd3/dburrows/DATA/te/rna/PE.fastq/trimmed/Sample_4411-GABA/R1-merge_val_1.fq.gz /cndd3/dburrows/DATA/te/rna/PE.fastq/trimmed/Sample_4411-GABA/R2-merge_val_2.fq.gz\n",
      "/cndd3/dburrows/DATA/te/rna/PE.fastq/trimmed/Sample_174051-1241-GABA/R1-merge_val_1.fq.gz /cndd3/dburrows/DATA/te/rna/PE.fastq/trimmed/Sample_174051-1241-GABA/R2-merge_val_2.fq.gz\n",
      "/cndd3/dburrows/DATA/te/rna/PE.fastq/trimmed/Sample_5326-GABA/R1-merge_val_1.fq.gz /cndd3/dburrows/DATA/te/rna/PE.fastq/trimmed/Sample_5326-GABA/R2-merge_val_2.fq.gz\n",
      "/cndd3/dburrows/DATA/te/rna/PE.fastq/trimmed/Sample_1133-GLU/R1-merge_val_1.fq.gz /cndd3/dburrows/DATA/te/rna/PE.fastq/trimmed/Sample_1133-GLU/R2-merge_val_2.fq.gz\n",
      "/cndd3/dburrows/DATA/te/rna/PE.fastq/trimmed/Sample_6285-GLU/R1-merge_val_1.fq.gz /cndd3/dburrows/DATA/te/rna/PE.fastq/trimmed/Sample_6285-GLU/R2-merge_val_2.fq.gz\n",
      "/cndd3/dburrows/DATA/te/rna/PE.fastq/trimmed/Sample_4425-GLU/R1-merge_val_1.fq.gz /cndd3/dburrows/DATA/te/rna/PE.fastq/trimmed/Sample_4425-GLU/R2-merge_val_2.fq.gz\n",
      "/cndd3/dburrows/DATA/te/rna/PE.fastq/trimmed/Sample_3739-GLU/R1-merge_val_1.fq.gz /cndd3/dburrows/DATA/te/rna/PE.fastq/trimmed/Sample_3739-GLU/R2-merge_val_2.fq.gz\n",
      "/cndd3/dburrows/DATA/te/rna/PE.fastq/trimmed/Sample_1134-GLU/R1-merge_val_1.fq.gz /cndd3/dburrows/DATA/te/rna/PE.fastq/trimmed/Sample_1134-GLU/R2-merge_val_2.fq.gz\n",
      "/cndd3/dburrows/DATA/te/rna/PE.fastq/trimmed/Sample_HCK16HECA028-GLU/R1-merge_val_1.fq.gz /cndd3/dburrows/DATA/te/rna/PE.fastq/trimmed/Sample_HCK16HECA028-GLU/R2-merge_val_2.fq.gz\n",
      "/cndd3/dburrows/DATA/te/rna/PE.fastq/trimmed/Sample_5077-GABA/R1-merge_val_1.fq.gz /cndd3/dburrows/DATA/te/rna/PE.fastq/trimmed/Sample_5077-GABA/R2-merge_val_2.fq.gz\n",
      "/cndd3/dburrows/DATA/te/rna/PE.fastq/trimmed/Sample_5977-GLU/R1-merge_val_1.fq.gz /cndd3/dburrows/DATA/te/rna/PE.fastq/trimmed/Sample_5977-GLU/R2-merge_val_2.fq.gz\n",
      "/cndd3/dburrows/DATA/te/rna/PE.fastq/trimmed/Sample_5744-GLU/R1-merge_val_1.fq.gz /cndd3/dburrows/DATA/te/rna/PE.fastq/trimmed/Sample_5744-GLU/R2-merge_val_2.fq.gz\n",
      "/cndd3/dburrows/DATA/te/rna/PE.fastq/trimmed/Sample_HCTYPA008-GABA/R1-merge_val_1.fq.gz /cndd3/dburrows/DATA/te/rna/PE.fastq/trimmed/Sample_HCTYPA008-GABA/R2-merge_val_2.fq.gz\n",
      "/cndd3/dburrows/DATA/te/rna/PE.fastq/trimmed/Sample_4337-GLU/R1-merge_val_1.fq.gz /cndd3/dburrows/DATA/te/rna/PE.fastq/trimmed/Sample_4337-GLU/R2-merge_val_2.fq.gz\n",
      "/cndd3/dburrows/DATA/te/rna/PE.fastq/trimmed/Sample_5086-GABA/R1-merge_val_1.fq.gz /cndd3/dburrows/DATA/te/rna/PE.fastq/trimmed/Sample_5086-GABA/R2-merge_val_2.fq.gz\n",
      "/cndd3/dburrows/DATA/te/rna/PE.fastq/trimmed/Sample_5570-GLU/R1-merge_val_1.fq.gz /cndd3/dburrows/DATA/te/rna/PE.fastq/trimmed/Sample_5570-GLU/R2-merge_val_2.fq.gz\n",
      "/cndd3/dburrows/DATA/te/rna/PE.fastq/trimmed/Sample_1275-GLU/R1-merge_val_1.fq.gz /cndd3/dburrows/DATA/te/rna/PE.fastq/trimmed/Sample_1275-GLU/R2-merge_val_2.fq.gz\n",
      "/cndd3/dburrows/DATA/te/rna/PE.fastq/trimmed/Sample_4337-GABA/R1-merge_val_1.fq.gz /cndd3/dburrows/DATA/te/rna/PE.fastq/trimmed/Sample_4337-GABA/R2-merge_val_2.fq.gz\n",
      "/cndd3/dburrows/DATA/te/rna/PE.fastq/trimmed/Sample_5184-GABA/R1-merge_val_1.fq.gz /cndd3/dburrows/DATA/te/rna/PE.fastq/trimmed/Sample_5184-GABA/R2-merge_val_2.fq.gz\n",
      "/cndd3/dburrows/DATA/te/rna/PE.fastq/trimmed/Sample_4379-GLU/R1-merge_val_1.fq.gz /cndd3/dburrows/DATA/te/rna/PE.fastq/trimmed/Sample_4379-GLU/R2-merge_val_2.fq.gz\n",
      "/cndd3/dburrows/DATA/te/rna/PE.fastq/trimmed/Sample_5918-GABA/R1-merge_val_1.fq.gz /cndd3/dburrows/DATA/te/rna/PE.fastq/trimmed/Sample_5918-GABA/R2-merge_val_2.fq.gz\n",
      "/cndd3/dburrows/DATA/te/rna/PE.fastq/trimmed/Sample_5643-GABA/R1-merge_val_1.fq.gz /cndd3/dburrows/DATA/te/rna/PE.fastq/trimmed/Sample_5643-GABA/R2-merge_val_2.fq.gz\n",
      "/cndd3/dburrows/DATA/te/rna/PE.fastq/trimmed/Sample_198034-1435-GLU/R1-merge_val_1.fq.gz /cndd3/dburrows/DATA/te/rna/PE.fastq/trimmed/Sample_198034-1435-GLU/R2-merge_val_2.fq.gz\n",
      "/cndd3/dburrows/DATA/te/rna/PE.fastq/trimmed/Sample_4428-GABA/R1-merge_val_1.fq.gz /cndd3/dburrows/DATA/te/rna/PE.fastq/trimmed/Sample_4428-GABA/R2-merge_val_2.fq.gz\n",
      "/cndd3/dburrows/DATA/te/rna/PE.fastq/trimmed/Sample_1539-GABA/R1-merge_val_1.fq.gz /cndd3/dburrows/DATA/te/rna/PE.fastq/trimmed/Sample_1539-GABA/R2-merge_val_2.fq.gz\n",
      "/cndd3/dburrows/DATA/te/rna/PE.fastq/trimmed/Sample_4321-GABA/R1-merge_val_1.fq.gz /cndd3/dburrows/DATA/te/rna/PE.fastq/trimmed/Sample_4321-GABA/R2-merge_val_2.fq.gz\n",
      "/cndd3/dburrows/DATA/te/rna/PE.fastq/trimmed/Sample_1275-GABA/R1-merge_val_1.fq.gz /cndd3/dburrows/DATA/te/rna/PE.fastq/trimmed/Sample_1275-GABA/R2-merge_val_2.fq.gz\n",
      "/cndd3/dburrows/DATA/te/rna/PE.fastq/trimmed/Sample_5606-GABA/R1-merge_val_1.fq.gz /cndd3/dburrows/DATA/te/rna/PE.fastq/trimmed/Sample_5606-GABA/R2-merge_val_2.fq.gz\n",
      "/cndd3/dburrows/DATA/te/rna/PE.fastq/trimmed/Sample_1535-GLU/R1-merge_val_1.fq.gz /cndd3/dburrows/DATA/te/rna/PE.fastq/trimmed/Sample_1535-GLU/R2-merge_val_2.fq.gz\n",
      "/cndd3/dburrows/DATA/te/rna/PE.fastq/trimmed/Sample_6007-GLU/R1-merge_val_1.fq.gz /cndd3/dburrows/DATA/te/rna/PE.fastq/trimmed/Sample_6007-GLU/R2-merge_val_2.fq.gz\n",
      "/cndd3/dburrows/DATA/te/rna/PE.fastq/trimmed/Sample_5326-GLU/R1-merge_val_1.fq.gz /cndd3/dburrows/DATA/te/rna/PE.fastq/trimmed/Sample_5326-GLU/R2-merge_val_2.fq.gz\n",
      "/cndd3/dburrows/DATA/te/rna/PE.fastq/trimmed/Sample_5309-GABA/R1-merge_val_1.fq.gz /cndd3/dburrows/DATA/te/rna/PE.fastq/trimmed/Sample_5309-GABA/R2-merge_val_2.fq.gz\n",
      "/cndd3/dburrows/DATA/te/rna/PE.fastq/trimmed/Sample_1134-GABA/R1-merge_val_1.fq.gz /cndd3/dburrows/DATA/te/rna/PE.fastq/trimmed/Sample_1134-GABA/R2-merge_val_2.fq.gz\n",
      "/cndd3/dburrows/DATA/te/rna/PE.fastq/trimmed/Sample_1105-GABA/R1-merge_val_1.fq.gz /cndd3/dburrows/DATA/te/rna/PE.fastq/trimmed/Sample_1105-GABA/R2-merge_val_2.fq.gz\n",
      "/cndd3/dburrows/DATA/te/rna/PE.fastq/trimmed/Sample_6032-GLU/R1-merge_val_1.fq.gz /cndd3/dburrows/DATA/te/rna/PE.fastq/trimmed/Sample_6032-GLU/R2-merge_val_2.fq.gz\n",
      "/cndd3/dburrows/DATA/te/rna/PE.fastq/trimmed/Sample_HCT15HAWA031-GABA/R1-merge_val_1.fq.gz /cndd3/dburrows/DATA/te/rna/PE.fastq/trimmed/Sample_HCT15HAWA031-GABA/R2-merge_val_2.fq.gz\n",
      "/cndd3/dburrows/DATA/te/rna/PE.fastq/trimmed/Sample_5184-GLU/R1-merge_val_1.fq.gz /cndd3/dburrows/DATA/te/rna/PE.fastq/trimmed/Sample_5184-GLU/R2-merge_val_2.fq.gz\n",
      "/cndd3/dburrows/DATA/te/rna/PE.fastq/trimmed/Sample_5293-GLU/R1-merge_val_1.fq.gz /cndd3/dburrows/DATA/te/rna/PE.fastq/trimmed/Sample_5293-GLU/R2-merge_val_2.fq.gz\n",
      "/cndd3/dburrows/DATA/te/rna/PE.fastq/trimmed/Sample_1823-GLU/R1-merge_val_1.fq.gz /cndd3/dburrows/DATA/te/rna/PE.fastq/trimmed/Sample_1823-GLU/R2-merge_val_2.fq.gz\n",
      "/cndd3/dburrows/DATA/te/rna/PE.fastq/trimmed/Sample_4414-GLU/R1-merge_val_1.fq.gz /cndd3/dburrows/DATA/te/rna/PE.fastq/trimmed/Sample_4414-GLU/R2-merge_val_2.fq.gz\n",
      "/cndd3/dburrows/DATA/te/rna/PE.fastq/trimmed/Sample_1105-GLU/R1-merge_val_1.fq.gz /cndd3/dburrows/DATA/te/rna/PE.fastq/trimmed/Sample_1105-GLU/R2-merge_val_2.fq.gz\n",
      "/cndd3/dburrows/DATA/te/rna/PE.fastq/trimmed/Sample_5401-GLU/R1-merge_val_1.fq.gz /cndd3/dburrows/DATA/te/rna/PE.fastq/trimmed/Sample_5401-GLU/R2-merge_val_2.fq.gz\n",
      "/cndd3/dburrows/DATA/te/rna/PE.fastq/trimmed/Sample_198034-1435-GABA/R1-merge_val_1.fq.gz /cndd3/dburrows/DATA/te/rna/PE.fastq/trimmed/Sample_198034-1435-GABA/R2-merge_val_2.fq.gz\n",
      "/cndd3/dburrows/DATA/te/rna/PE.fastq/trimmed/Sample_4545-GLU/R1-merge_val_1.fq.gz /cndd3/dburrows/DATA/te/rna/PE.fastq/trimmed/Sample_4545-GLU/R2-merge_val_2.fq.gz\n",
      "/cndd3/dburrows/DATA/te/rna/PE.fastq/trimmed/Sample_5787-GLU/R1-merge_val_1.fq.gz /cndd3/dburrows/DATA/te/rna/PE.fastq/trimmed/Sample_5787-GLU/R2-merge_val_2.fq.gz\n",
      "/cndd3/dburrows/DATA/te/rna/PE.fastq/trimmed/Sample_1648-GLU/R1-merge_val_1.fq.gz /cndd3/dburrows/DATA/te/rna/PE.fastq/trimmed/Sample_1648-GLU/R2-merge_val_2.fq.gz\n",
      "/cndd3/dburrows/DATA/te/rna/PE.fastq/trimmed/Sample_4428-GLU/R1-merge_val_1.fq.gz /cndd3/dburrows/DATA/te/rna/PE.fastq/trimmed/Sample_4428-GLU/R2-merge_val_2.fq.gz\n",
      "/cndd3/dburrows/DATA/te/rna/PE.fastq/trimmed/Sample_Hct15HBNA032-GABA/R1-merge_val_1.fq.gz /cndd3/dburrows/DATA/te/rna/PE.fastq/trimmed/Sample_Hct15HBNA032-GABA/R2-merge_val_2.fq.gz\n",
      "/cndd3/dburrows/DATA/te/rna/PE.fastq/trimmed/Sample_5446-GLU/R1-merge_val_1.fq.gz /cndd3/dburrows/DATA/te/rna/PE.fastq/trimmed/Sample_5446-GLU/R2-merge_val_2.fq.gz\n",
      "/cndd3/dburrows/DATA/te/rna/PE.fastq/trimmed/Sample_5787-GABA/R1-merge_val_1.fq.gz /cndd3/dburrows/DATA/te/rna/PE.fastq/trimmed/Sample_5787-GABA/R2-merge_val_2.fq.gz\n",
      "/cndd3/dburrows/DATA/te/rna/PE.fastq/trimmed/Sample_5451-GABA/R1-merge_val_1.fq.gz /cndd3/dburrows/DATA/te/rna/PE.fastq/trimmed/Sample_5451-GABA/R2-merge_val_2.fq.gz\n",
      "/cndd3/dburrows/DATA/te/rna/PE.fastq/trimmed/Sample_5077-GLU/R1-merge_val_1.fq.gz /cndd3/dburrows/DATA/te/rna/PE.fastq/trimmed/Sample_5077-GLU/R2-merge_val_2.fq.gz\n",
      "/cndd3/dburrows/DATA/te/rna/PE.fastq/trimmed/Sample_5617-GABA/R1-merge_val_1.fq.gz /cndd3/dburrows/DATA/te/rna/PE.fastq/trimmed/Sample_5617-GABA/R2-merge_val_2.fq.gz\n",
      "/cndd3/dburrows/DATA/te/rna/PE.fastq/trimmed/Sample_1277-GLU/R1-merge_val_1.fq.gz /cndd3/dburrows/DATA/te/rna/PE.fastq/trimmed/Sample_1277-GLU/R2-merge_val_2.fq.gz\n",
      "/cndd3/dburrows/DATA/te/rna/PE.fastq/trimmed/Sample_179134-1401-GABA/R1-merge_val_1.fq.gz /cndd3/dburrows/DATA/te/rna/PE.fastq/trimmed/Sample_179134-1401-GABA/R2-merge_val_2.fq.gz\n",
      "/cndd3/dburrows/DATA/te/rna/PE.fastq/trimmed/Sample_5936-GABA/R1-merge_val_1.fq.gz /cndd3/dburrows/DATA/te/rna/PE.fastq/trimmed/Sample_5936-GABA/R2-merge_val_2.fq.gz\n",
      "/cndd3/dburrows/DATA/te/rna/PE.fastq/trimmed/Sample_5451-GLU/R1-merge_val_1.fq.gz /cndd3/dburrows/DATA/te/rna/PE.fastq/trimmed/Sample_5451-GLU/R2-merge_val_2.fq.gz\n",
      "/cndd3/dburrows/DATA/te/rna/PE.fastq/trimmed/Sample_4332-GLU/R1-merge_val_1.fq.gz /cndd3/dburrows/DATA/te/rna/PE.fastq/trimmed/Sample_4332-GLU/R2-merge_val_2.fq.gz\n",
      "/cndd3/dburrows/DATA/te/rna/PE.fastq/trimmed/Sample_5161-GLU/R1-merge_val_1.fq.gz /cndd3/dburrows/DATA/te/rna/PE.fastq/trimmed/Sample_5161-GLU/R2-merge_val_2.fq.gz\n",
      "/cndd3/dburrows/DATA/te/rna/PE.fastq/trimmed/Sample_5617-GLU/R1-merge_val_1.fq.gz /cndd3/dburrows/DATA/te/rna/PE.fastq/trimmed/Sample_5617-GLU/R2-merge_val_2.fq.gz\n",
      "/cndd3/dburrows/DATA/te/rna/PE.fastq/trimmed/Sample_4725-GABA/R1-merge_val_1.fq.gz /cndd3/dburrows/DATA/te/rna/PE.fastq/trimmed/Sample_4725-GABA/R2-merge_val_2.fq.gz\n",
      "/cndd3/dburrows/DATA/te/rna/PE.fastq/trimmed/Sample_5918-GLU/R1-merge_val_1.fq.gz /cndd3/dburrows/DATA/te/rna/PE.fastq/trimmed/Sample_5918-GLU/R2-merge_val_2.fq.gz\n",
      "/cndd3/dburrows/DATA/te/rna/PE.fastq/trimmed/Sample_HCT15HBMA007-GABA/R1-merge_val_1.fq.gz /cndd3/dburrows/DATA/te/rna/PE.fastq/trimmed/Sample_HCT15HBMA007-GABA/R2-merge_val_2.fq.gz\n",
      "/cndd3/dburrows/DATA/te/rna/PE.fastq/trimmed/Sample_5606-GLU/R1-merge_val_1.fq.gz /cndd3/dburrows/DATA/te/rna/PE.fastq/trimmed/Sample_5606-GLU/R2-merge_val_2.fq.gz\n",
      "/cndd3/dburrows/DATA/te/rna/PE.fastq/trimmed/Sample_174051-1241-GLU/R1-merge_val_1.fq.gz /cndd3/dburrows/DATA/te/rna/PE.fastq/trimmed/Sample_174051-1241-GLU/R2-merge_val_2.fq.gz\n",
      "/cndd3/dburrows/DATA/te/rna/PE.fastq/trimmed/Sample_HCT15HAWA031-GLU/R1-merge_val_1.fq.gz /cndd3/dburrows/DATA/te/rna/PE.fastq/trimmed/Sample_HCT15HAWA031-GLU/R2-merge_val_2.fq.gz\n",
      "/cndd3/dburrows/DATA/te/rna/PE.fastq/trimmed/Sample_1648-GABA/R1-merge_val_1.fq.gz /cndd3/dburrows/DATA/te/rna/PE.fastq/trimmed/Sample_1648-GABA/R2-merge_val_2.fq.gz\n",
      "/cndd3/dburrows/DATA/te/rna/PE.fastq/trimmed/Sample_5387-GABA/R1-merge_val_1.fq.gz /cndd3/dburrows/DATA/te/rna/PE.fastq/trimmed/Sample_5387-GABA/R2-merge_val_2.fq.gz\n",
      "/cndd3/dburrows/DATA/te/rna/PE.fastq/trimmed/Sample_Hct17HEIA010-GLU/R1-merge_val_1.fq.gz /cndd3/dburrows/DATA/te/rna/PE.fastq/trimmed/Sample_Hct17HEIA010-GLU/R2-merge_val_2.fq.gz\n",
      "/cndd3/dburrows/DATA/te/rna/PE.fastq/trimmed/Sample_1848-GLU/R1-merge_val_1.fq.gz /cndd3/dburrows/DATA/te/rna/PE.fastq/trimmed/Sample_1848-GLU/R2-merge_val_2.fq.gz\n",
      "/cndd3/dburrows/DATA/te/rna/PE.fastq/trimmed/Sample_198035-1765-GABA/R1-merge_val_1.fq.gz /cndd3/dburrows/DATA/te/rna/PE.fastq/trimmed/Sample_198035-1765-GABA/R2-merge_val_2.fq.gz\n"
     ]
    }
   ],
   "source": [
    "%%bash\n",
    "str=$1\n",
    "\n",
    "#Define paths and variables\n",
    "inpath=/cndd3/dburrows/DATA/te/rna/PE.fastq/trimmed\n",
    "outpath=/cndd3/dburrows/DATA/te/rna/PE.bam/\n",
    "id_arr=($(find $inpath/ -maxdepth 1 -name \"*Sample*$str*\"))\n",
    "\n",
    "#Loop over each sample\n",
    "for i in ${id_arr[@]}\n",
    "do\n",
    "    echo Running $i \n",
    "    r1=$i/R1-merge_val_1.fq.gz\n",
    "    r2=$i/R2-merge_val_2.fq.gz\n",
    "    \n",
    "    mkdir $outpath/$(basename $i)\n",
    "    cd $outpath/$(basename $i)\n",
    "\n",
    "    STAR --genomeDir /cndd3/dburrows/DATA/te/gtf//annotations/gencode/STAR.gencode.v37 --readFilesIn $r1 $r2 --outSAMunmapped None --outFilterType BySJout --outSAMattributes All --outFilterMultimapNmax 100 --outFilterMismatchNmax 999 --outFilterMismatchNoverReadLmax 0.04 --alignIntronMin 20 --alignIntronMax 1000000 --alignMatesGapMax 1000000 --alignSJoverhangMin 8 --alignSJDBoverhangMin 1 --sjdbScore 1 --readFilesCommand zcat --runThreadN 16 --genomeLoad LoadAndKeep --limitBAMsortRAM 10000000000 --outSAMtype BAM SortedByCoordinate --quantMode TranscriptomeSAM GeneCounts --winAnchorMultimapNmax 200 --outMultimapperOrder Random --outSAMmultNmax -1 \n",
    "    samtools index Aligned.sortedByCoord.out.bam\n",
    "    cp $CODE3/te_ageing/workspace.sh $outpath/$(basename $i)/log.workspace\n",
    "done\n",
    "\n",
    "\n",
    "\n"
   ]
  },
  {
   "cell_type": "code",
   "execution_count": 62,
   "metadata": {},
   "outputs": [],
   "source": [
    "#Check that all files are present\n",
    "import glob\n",
    "import os\n",
    "\n",
    "full_l = os.listdir('/cndd2/Public_Datasets/Dracheva_PsychEncode_development/raw_May2022/') \n",
    "os.chdir('/cndd3/dburrows/DATA/te/rna/PE.fastq/trimmed/')\n",
    "check_l = glob.glob('*Samp*')\n",
    "\n",
    "import numpy as np\n",
    "not_int = np.setxor1d(check_l, full_l)\n",
    "assert len(full_l) == len(check_l)\n",
    "assert len(not_int) == 0"
   ]
  },
  {
   "cell_type": "code",
   "execution_count": 54,
   "metadata": {},
   "outputs": [
    {
     "data": {
      "text/plain": [
       "array(['Sample_1133-GLU'], dtype='<U24')"
      ]
     },
     "execution_count": 54,
     "metadata": {},
     "output_type": "execute_result"
    }
   ],
   "source": [
    "not_int"
   ]
  },
  {
   "cell_type": "code",
   "execution_count": 63,
   "metadata": {},
   "outputs": [],
   "source": [
    "# Check that each file contains correct information\n",
    "\n",
    "import glob\n",
    "import os\n",
    "\n",
    "os.chdir('/cndd3/dburrows/DATA/te/rna/PE.fastq/trimmed/')\n",
    "for n in os.listdir():\n",
    "    curr = os.listdir('/cndd3/dburrows/DATA/te/rna/PE.fastq/trimmed/' + n)\n",
    "    if 'R1-merge_val_1.fq.gz' not in curr or 'R2-merge_val_2.fq.gz' not in curr or 'log.workspace' not in curr or 'log.trim_galore' not in curr or 'R1-merge.fastq.gz_trimming_report.txt' not in curr or 'R2-merge.fastq.gz_trimming_report.txt' not in curr:\n",
    "        print('Found ' + n)\n",
    "        print(sorted(curr))   "
   ]
  },
  {
   "cell_type": "code",
   "execution_count": null,
   "metadata": {
    "vscode": {
     "languageId": "shellscript"
    }
   },
   "outputs": [],
   "source": [
    "STAR --genomeDir /cndd3/dburrows/DATA/te/gtf//annotations/gencode/STAR.gencode.v37 --readFilesIn /cndd3/dburrows/DATA/te/rna/PE.fastq/trimmed/prac/R1-merge_val_1.fq.gz /cndd3/dburrows/DATA/te/rna/PE.fastq/trimmed/prac/R2-merge_val_2.fq.gz --outSAMunmapped None --outFilterType BySJout --outSAMattributes All --outFilterMultimapNmax 100 --outFilterMismatchNmax 999 --outFilterMismatchNoverReadLmax 0.04 --alignIntronMin 20 --alignIntronMax 1000000 --alignMatesGapMax 1000000 --alignSJoverhangMin 8 --alignSJDBoverhangMin 1 --sjdbScore 1 --readFilesCommand zcat --runThreadN 16 --genomeLoad LoadAndKeep --limitBAMsortRAM 10000000000 --outSAMtype BAM SortedByCoordinate --quantMode TranscriptomeSAM GeneCounts --winAnchorMultimapNmax 200 --outMultimapperOrder Random --outSAMmultNmax -1 "
   ]
  }
 ],
 "metadata": {
  "kernelspec": {
   "display_name": "base",
   "language": "python",
   "name": "python3"
  },
  "language_info": {
   "codemirror_mode": {
    "name": "ipython",
    "version": 3
   },
   "file_extension": ".py",
   "mimetype": "text/x-python",
   "name": "python",
   "nbconvert_exporter": "python",
   "pygments_lexer": "ipython3",
   "version": "3.9.12"
  },
  "orig_nbformat": 4
 },
 "nbformat": 4,
 "nbformat_minor": 2
}
