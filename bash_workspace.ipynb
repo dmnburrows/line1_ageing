{
 "cells": [
  {
   "cell_type": "code",
   "execution_count": 46,
   "metadata": {
    "vscode": {
     "languageId": "shellscript"
    }
   },
   "outputs": [
    {
     "name": "stdout",
     "output_type": "stream",
     "text": [
      "/cndd3/dburrows/DATA//te/rna/PE.fastq/merged//Sample_HCT15HAWA031-GLU\n",
      "/cndd3/dburrows/DATA//te/rna/PE.fastq/merged//Sample_1277-GLU\n",
      "/cndd3/dburrows/DATA//te/rna/PE.fastq/merged//Sample_Hct17HEIA010-GLU\n",
      "/cndd3/dburrows/DATA//te/rna/PE.fastq/merged//Sample_4332-GLU\n",
      "/cndd3/dburrows/DATA//te/rna/PE.fastq/merged//Sample_5451-GLU\n",
      "/cndd3/dburrows/DATA//te/rna/PE.fastq/merged//Sample_5161-GLU\n",
      "/cndd3/dburrows/DATA//te/rna/PE.fastq/merged//Sample_5617-GLU\n",
      "/cndd3/dburrows/DATA//te/rna/PE.fastq/merged//Sample_198034-1435-GLU\n",
      "/cndd3/dburrows/DATA//te/rna/PE.fastq/merged//Sample_HCTYPA008-GLU\n",
      "/cndd3/dburrows/DATA//te/rna/PE.fastq/merged//Sample_5936-GLU\n",
      "/cndd3/dburrows/DATA//te/rna/PE.fastq/merged//Sample_1539-GLU\n",
      "/cndd3/dburrows/DATA//te/rna/PE.fastq/merged//Sample_HCT16HCQA020-GLU\n",
      "/cndd3/dburrows/DATA//te/rna/PE.fastq/merged//Sample_4725-GLU\n",
      "/cndd3/dburrows/DATA//te/rna/PE.fastq/merged//Sample_5976-GLU\n",
      "/cndd3/dburrows/DATA//te/rna/PE.fastq/merged//Sample_5387-GLU\n",
      "/cndd3/dburrows/DATA//te/rna/PE.fastq/merged//Sample_HCT15HBMA007-GLU\n",
      "/cndd3/dburrows/DATA//te/rna/PE.fastq/merged//Sample_5086-GLU\n",
      "/cndd3/dburrows/DATA//te/rna/PE.fastq/merged//Sample_179134-1401-GLU\n",
      "/cndd3/dburrows/DATA//te/rna/PE.fastq/merged//Sample_4369-GLU\n",
      "/cndd3/dburrows/DATA//te/rna/PE.fastq/merged//Sample_5871-GLU\n",
      "/cndd3/dburrows/DATA//te/rna/PE.fastq/merged//Sample_4411-GLU\n",
      "/cndd3/dburrows/DATA//te/rna/PE.fastq/merged//Sample_5309-GLU\n",
      "/cndd3/dburrows/DATA//te/rna/PE.fastq/merged//Sample_5977-GLU\n",
      "/cndd3/dburrows/DATA//te/rna/PE.fastq/merged//Sample_Hct15HBNA032-GLU\n",
      "/cndd3/dburrows/DATA//te/rna/PE.fastq/merged//Sample_198035-1765-GLU\n",
      "/cndd3/dburrows/DATA//te/rna/PE.fastq/merged//Sample_5570-GLU\n",
      "/cndd3/dburrows/DATA//te/rna/PE.fastq/merged//Sample_5744-GLU\n",
      "/cndd3/dburrows/DATA//te/rna/PE.fastq/merged//Sample_4337-GLU\n",
      "/cndd3/dburrows/DATA//te/rna/PE.fastq/merged//Sample_1275-GLU\n",
      "/cndd3/dburrows/DATA//te/rna/PE.fastq/merged//Sample_4379-GLU\n",
      "/cndd3/dburrows/DATA//te/rna/PE.fastq/merged//Sample_HCK16HECA028-GLU\n",
      "/cndd3/dburrows/DATA//te/rna/PE.fastq/merged//Sample_5643-GLU\n",
      "/cndd3/dburrows/DATA//te/rna/PE.fastq/merged//Sample_HCTZZNA014-GLU\n",
      "/cndd3/dburrows/DATA//te/rna/PE.fastq/merged//Sample_4321-GLU\n",
      "/cndd3/dburrows/DATA//te/rna/PE.fastq/merged//Sample_6285-GLU\n",
      "/cndd3/dburrows/DATA//te/rna/PE.fastq/merged//Sample_4425-GLU\n",
      "/cndd3/dburrows/DATA//te/rna/PE.fastq/merged//Sample_3739-GLU\n",
      "/cndd3/dburrows/DATA//te/rna/PE.fastq/merged//Sample_1134-GLU\n",
      "/cndd3/dburrows/DATA//te/rna/PE.fastq/merged//Sample_1133-GLU}\n"
     ]
    }
   ],
   "source": [
    "%%bash\n",
    "str=GLU\n",
    "\n",
    "#Define paths and variables\n",
    "inpath=$DATA3/te/rna/PE.fastq/merged/\n",
    "outpath=/cndd3/dburrows/DATA/te/rna/PE.fastq/trimmed\n",
    "id_arr=($(find $inpath/ -maxdepth 1 -name \"*Sample*$str*\"))\n",
    "\n",
    "#Loop over each sample\n",
    "for i in ${id_arr[@]:20:${#id_arr[@]}}}\n",
    "do\n",
    "    echo $i\n",
    "\n",
    "done"
   ]
  },
  {
   "cell_type": "code",
   "execution_count": 43,
   "metadata": {},
   "outputs": [
    {
     "ename": "AssertionError",
     "evalue": "",
     "output_type": "error",
     "traceback": [
      "\u001b[0;31m---------------------------------------------------------------------------\u001b[0m",
      "\u001b[0;31mAssertionError\u001b[0m                            Traceback (most recent call last)",
      "\u001b[1;32m/cndd3/dburrows/CODE/te_ageing/bash_workspace.ipynb Cell 4\u001b[0m in \u001b[0;36m<cell line: 11>\u001b[0;34m()\u001b[0m\n\u001b[1;32m      <a href='vscode-notebook-cell://ssh-remote%2Bdeku/cndd3/dburrows/CODE/te_ageing/bash_workspace.ipynb#W5sdnNjb2RlLXJlbW90ZQ%3D%3D?line=8'>9</a>\u001b[0m \u001b[39mimport\u001b[39;00m \u001b[39mnumpy\u001b[39;00m \u001b[39mas\u001b[39;00m \u001b[39mnp\u001b[39;00m\n\u001b[1;32m     <a href='vscode-notebook-cell://ssh-remote%2Bdeku/cndd3/dburrows/CODE/te_ageing/bash_workspace.ipynb#W5sdnNjb2RlLXJlbW90ZQ%3D%3D?line=9'>10</a>\u001b[0m not_int \u001b[39m=\u001b[39m np\u001b[39m.\u001b[39msetxor1d(check_l, full_l)\n\u001b[0;32m---> <a href='vscode-notebook-cell://ssh-remote%2Bdeku/cndd3/dburrows/CODE/te_ageing/bash_workspace.ipynb#W5sdnNjb2RlLXJlbW90ZQ%3D%3D?line=10'>11</a>\u001b[0m \u001b[39massert\u001b[39;00m \u001b[39mlen\u001b[39m(full_l) \u001b[39m==\u001b[39m \u001b[39mlen\u001b[39m(check_l)\n\u001b[1;32m     <a href='vscode-notebook-cell://ssh-remote%2Bdeku/cndd3/dburrows/CODE/te_ageing/bash_workspace.ipynb#W5sdnNjb2RlLXJlbW90ZQ%3D%3D?line=11'>12</a>\u001b[0m \u001b[39massert\u001b[39;00m \u001b[39mlen\u001b[39m(not_int) \u001b[39m==\u001b[39m \u001b[39m0\u001b[39m\n",
      "\u001b[0;31mAssertionError\u001b[0m: "
     ]
    }
   ],
   "source": [
    "#Check that all files are present\n",
    "import glob\n",
    "import os\n",
    "\n",
    "full_l = os.listdir('/cndd2/Public_Datasets/Dracheva_PsychEncode_development/raw_May2022/') \n",
    "os.chdir('/cndd3/dburrows/DATA/te/rna/PE.fastq/trimmed/')\n",
    "check_l = glob.glob('*Samp*')\n",
    "\n",
    "import numpy as np\n",
    "not_int = np.setxor1d(check_l, full_l)\n",
    "assert len(full_l) == len(check_l)\n",
    "assert len(not_int) == 0"
   ]
  },
  {
   "cell_type": "code",
   "execution_count": 49,
   "metadata": {},
   "outputs": [
    {
     "name": "stdout",
     "output_type": "stream",
     "text": [
      "Found Sample_4425-GLU\n",
      "['R1-merge.fastq.gz_trimming_report.txt', 'R1-merge_trimmed.fq.gz', 'R1-merge_val_1.fq.gz', 'R2-merge.fastq.gz_trimming_report.txt', 'R2-merge_trimmed.fq.gz', 'R2-merge_val_2.fq.gz']\n"
     ]
    }
   ],
   "source": [
    "# Check that each file contains correct information\n",
    "\n",
    "import glob\n",
    "import os\n",
    "\n",
    "os.chdir('/cndd3/dburrows/DATA/te/rna/PE.fastq/trimmed/')\n",
    "for n in os.listdir():\n",
    "    curr = os.listdir('/cndd3/dburrows/DATA/te/rna/PE.fastq/trimmed/' + n)\n",
    "    if 'R1-merge_val_1.fq.gz' not in curr or 'R2-merge_val_2.fq.gz' not in curr or 'log.workspace' not in curr or 'log.trim_galore' not in curr or 'R1-merge.fastq.gz_trimming_report.txt' not in curr or 'R2-merge.fastq.gz_trimming_report.txt' not in curr:\n",
    "        print('Found ' + n)\n",
    "        print(sorted(curr))   "
   ]
  },
  {
   "cell_type": "code",
   "execution_count": null,
   "metadata": {
    "vscode": {
     "languageId": "shellscript"
    }
   },
   "outputs": [],
   "source": [
    "STAR --genomeDir /cndd3/dburrows/DATA/te/gtf//annotations/gencode/STAR.gencode.v37 --readFilesIn /cndd3/dburrows/DATA/te/rna/PE.fastq/trimmed/prac/R1-merge_val_1.fq.gz /cndd3/dburrows/DATA/te/rna/PE.fastq/trimmed/prac/R2-merge_val_2.fq.gz --outSAMunmapped None --outFilterType BySJout --outSAMattributes All --outFilterMultimapNmax 100 --outFilterMismatchNmax 999 --outFilterMismatchNoverReadLmax 0.04 --alignIntronMin 20 --alignIntronMax 1000000 --alignMatesGapMax 1000000 --alignSJoverhangMin 8 --alignSJDBoverhangMin 1 --sjdbScore 1 --readFilesCommand zcat --runThreadN 16 --genomeLoad LoadAndKeep --limitBAMsortRAM 10000000000 --outSAMtype BAM SortedByCoordinate --quantMode TranscriptomeSAM GeneCounts --winAnchorMultimapNmax 200 --outMultimapperOrder Random --outSAMmultNmax -1 "
   ]
  }
 ],
 "metadata": {
  "kernelspec": {
   "display_name": "base",
   "language": "python",
   "name": "python3"
  },
  "language_info": {
   "codemirror_mode": {
    "name": "ipython",
    "version": 3
   },
   "file_extension": ".py",
   "mimetype": "text/x-python",
   "name": "python",
   "nbconvert_exporter": "python",
   "pygments_lexer": "ipython3",
   "version": "3.9.12"
  },
  "orig_nbformat": 4
 },
 "nbformat": 4,
 "nbformat_minor": 2
}
