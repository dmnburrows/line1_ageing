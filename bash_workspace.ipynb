{
 "cells": [
  {
   "cell_type": "code",
   "execution_count": 124,
   "metadata": {
    "vscode": {
     "languageId": "shellscript"
    }
   },
   "outputs": [
    {
     "name": "stdout",
     "output_type": "stream",
     "text": [
      "/cndd2/Public_Datasets/Dracheva_PsychEncode_development/raw_May2022//Sample_5977-GLU\n",
      "/cndd2/Public_Datasets/Dracheva_PsychEncode_development/raw_May2022//Sample_5977-GLU/fastq/5977-GLU_AAGTCCAA-TACTCATA_HKVTWDSX3_L001_001.R1.fastq.gz /cndd2/Public_Datasets/Dracheva_PsychEncode_development/raw_May2022//Sample_5977-GLU/fastq/5977-GLU_AAGTCCAA-TACTCATA_HKVTWDSX3_L002_001.R1.fastq.gz\n",
      "/cndd2/Public_Datasets/Dracheva_PsychEncode_development/raw_May2022//Sample_5977-GLU/fastq/5977-GLU_AAGTCCAA-TACTCATA_HKVTWDSX3_L001_001.R2.fastq.gz /cndd2/Public_Datasets/Dracheva_PsychEncode_development/raw_May2022//Sample_5977-GLU/fastq/5977-GLU_AAGTCCAA-TACTCATA_HKVTWDSX3_L002_001.R2.fastq.gz\n"
     ]
    }
   ],
   "source": [
    "%%bash\n",
    "\n",
    "str=$1\n",
    "\n",
    "#Define paths and variables\n",
    "datapath=$pe_rna_fa\n",
    "outpath=/cndd3/dburrows/DATA/te/rna/PE.fastq\n",
    "id=$(find $datapath/ -maxdepth 1 -name \"*$str*\")\n",
    "id_arr=($id)\n",
    "\n",
    "#Loop over each sample\n",
    "for i in ${id_arr[@]}\n",
    "do\n",
    "\n",
    "    echo $i\n",
    "    R1=$(ls $(find $i/fastq/ -maxdepth 1 -name \"*R1*\"))\n",
    "    R2=$(ls $(find $i/fastq/ -maxdepth 1 -name \"*R2*\"))\n",
    "    R1_arr=($R1)\n",
    "    R2_arr=($R2)\n",
    "    echo ${R1_arr[0]} ${R1_arr[1]} \n",
    "    echo ${R2_arr[0]} ${R2_arr[1]} \n",
    "\n",
    "    # # #concatenate lanes together for each read\n",
    "    sample=$(basename $i) \n",
    "    mkdir $outpath/$sample\n",
    "    cat  ${R1_arr[0]} ${R1_arr[1]}  > $outpath/$sample/R1-merge.fastq.qz\n",
    "    cat  ${R2_arr[0]} ${R2_arr[1]}  > $outpath/$sample/R2-merge.fastq.qz\n",
    "done\n",
    "\n"
   ]
  },
  {
   "cell_type": "code",
   "execution_count": null,
   "metadata": {
    "vscode": {
     "languageId": "shellscript"
    }
   },
   "outputs": [],
   "source": [
    "i=$1\n",
    "echo \"Handling $i\"\n",
    "j=${i/R1.fastq.gz/R2.fastq.gz}\n",
    "log=$(basename $i)_trimming.log\n",
    "outdir=\"/scratch/jchien_RNA\"\n",
    "trim_galore --cores 4 --paired --clip_R1 3 -q 20 --fastqc_args \"-noextract\" $i $j -o $outdir > $log 2>&1"
   ]
  }
 ],
 "metadata": {
  "kernelspec": {
   "display_name": "base",
   "language": "python",
   "name": "python3"
  },
  "language_info": {
   "codemirror_mode": {
    "name": "ipython",
    "version": 3
   },
   "file_extension": ".py",
   "mimetype": "text/x-python",
   "name": "python",
   "nbconvert_exporter": "python",
   "pygments_lexer": "ipython3",
   "version": "3.9.12"
  },
  "orig_nbformat": 4
 },
 "nbformat": 4,
 "nbformat_minor": 2
}
