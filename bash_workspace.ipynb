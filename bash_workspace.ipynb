{
 "cells": [
  {
   "cell_type": "code",
   "execution_count": 55,
   "metadata": {
    "vscode": {
     "languageId": "shellscript"
    }
   },
   "outputs": [
    {
     "name": "stdout",
     "output_type": "stream",
     "text": [
      "/cndd3/dburrows/DATA//te/rna/PE.fastq/merged//Sample_4545-GABA /cndd3/dburrows/DATA//te/rna/PE.fastq/merged//Sample_5401-GLU /cndd3/dburrows/DATA//te/rna/PE.fastq/merged//Sample_4414-GLU /cndd3/dburrows/DATA//te/rna/PE.fastq/merged//Sample_1105-GLU /cndd3/dburrows/DATA//te/rna/PE.fastq/merged//Sample_6032-GABA /cndd3/dburrows/DATA//te/rna/PE.fastq/merged//Sample_4545-GLU /cndd3/dburrows/DATA//te/rna/PE.fastq/merged//Sample_5977-GABA /cndd3/dburrows/DATA//te/rna/PE.fastq/merged//Sample_174051-1241-GLU /cndd3/dburrows/DATA//te/rna/PE.fastq/merged//Sample_4369-GABA /cndd3/dburrows/DATA//te/rna/PE.fastq/merged//Sample_1133-GABA /cndd3/dburrows/DATA//te/rna/PE.fastq/merged//Sample_4428-GLU /cndd3/dburrows/DATA//te/rna/PE.fastq/merged//Sample_4414-GABA /cndd3/dburrows/DATA//te/rna/PE.fastq/merged//Sample_5446-GLU /cndd3/dburrows/DATA//te/rna/PE.fastq/merged//Sample_6007-GABA /cndd3/dburrows/DATA//te/rna/PE.fastq/merged//Sample_5787-GLU /cndd3/dburrows/DATA//te/rna/PE.fastq/merged//Sample_4425-GABA /cndd3/dburrows/DATA//te/rna/PE.fastq/merged//Sample_1648-GLU /cndd3/dburrows/DATA//te/rna/PE.fastq/merged//Sample_5446-GABA /cndd3/dburrows/DATA//te/rna/PE.fastq/merged//Sample_5871-GABA /cndd3/dburrows/DATA//te/rna/PE.fastq/merged//Sample_5401-GABA /cndd3/dburrows/DATA//te/rna/PE.fastq/merged//Sample_198034-1435-GABA /cndd3/dburrows/DATA//te/rna/PE.fastq/merged//Sample_5744-GABA /cndd3/dburrows/DATA//te/rna/PE.fastq/merged//Sample_5326-GLU /cndd3/dburrows/DATA//te/rna/PE.fastq/merged//Sample_5293-GABA /cndd3/dburrows/DATA//te/rna/PE.fastq/merged//Sample_1535-GLU /cndd3/dburrows/DATA//te/rna/PE.fastq/merged//Sample_6007-GLU /cndd3/dburrows/DATA//te/rna/PE.fastq/merged//Sample_HCT16HCQA020-GABA /cndd3/dburrows/DATA//te/rna/PE.fastq/merged//Sample_6032-GLU /cndd3/dburrows/DATA//te/rna/PE.fastq/merged//Sample_1848-GABA /cndd3/dburrows/DATA//te/rna/PE.fastq/merged//Sample_4332-GABA /cndd3/dburrows/DATA//te/rna/PE.fastq/merged//Sample_4379-GABA /cndd3/dburrows/DATA//te/rna/PE.fastq/merged//Sample_1823-GLU /cndd3/dburrows/DATA//te/rna/PE.fastq/merged//Sample_5184-GLU /cndd3/dburrows/DATA//te/rna/PE.fastq/merged//Sample_5293-GLU /cndd3/dburrows/DATA//te/rna/PE.fastq/merged//Sample_5918-GABA /cndd3/dburrows/DATA//te/rna/PE.fastq/merged//Sample_5606-GLU /cndd3/dburrows/DATA//te/rna/PE.fastq/merged//Sample_5184-GABA /cndd3/dburrows/DATA//te/rna/PE.fastq/merged//Sample_4337-GABA /cndd3/dburrows/DATA//te/rna/PE.fastq/merged//Sample_5918-GLU /cndd3/dburrows/DATA//te/rna/PE.fastq/merged//Sample_4428-GABA /cndd3/dburrows/DATA//te/rna/PE.fastq/merged//Sample_HCK16HECA028-GABA /cndd3/dburrows/DATA//te/rna/PE.fastq/merged//Sample_179134-1401-GABA /cndd3/dburrows/DATA//te/rna/PE.fastq/merged//Sample_5643-GABA /cndd3/dburrows/DATA//te/rna/PE.fastq/merged//Sample_5077-GABA /cndd3/dburrows/DATA//te/rna/PE.fastq/merged//Sample_5086-GABA /cndd3/dburrows/DATA//te/rna/PE.fastq/merged//Sample_1848-GLU /cndd3/dburrows/DATA//te/rna/PE.fastq/merged//Sample_5326-GABA /cndd3/dburrows/DATA//te/rna/PE.fastq/merged//Sample_5077-GLU /cndd3/dburrows/DATA//te/rna/PE.fastq/merged//Sample_4411-GABA /cndd3/dburrows/DATA//te/rna/PE.fastq/merged//Sample_HCT15HAWA031-GLU /cndd3/dburrows/DATA//te/rna/PE.fastq/merged//Sample_Hct17HEIA010-GABA /cndd3/dburrows/DATA//te/rna/PE.fastq/merged//Sample_1277-GLU /cndd3/dburrows/DATA//te/rna/PE.fastq/merged//Sample_1277-GABA /cndd3/dburrows/DATA//te/rna/PE.fastq/merged//Sample_Hct17HEIA010-GLU /cndd3/dburrows/DATA//te/rna/PE.fastq/merged//Sample_4332-GLU /cndd3/dburrows/DATA//te/rna/PE.fastq/merged//Sample_5976-GABA /cndd3/dburrows/DATA//te/rna/PE.fastq/merged//Sample_1823-GABA /cndd3/dburrows/DATA//te/rna/PE.fastq/merged//Sample_5451-GLU /cndd3/dburrows/DATA//te/rna/PE.fastq/merged//Sample_6285-GABA /cndd3/dburrows/DATA//te/rna/PE.fastq/merged//Sample_5570-GABA /cndd3/dburrows/DATA//te/rna/PE.fastq/merged//Sample_5161-GABA /cndd3/dburrows/DATA//te/rna/PE.fastq/merged//Sample_198035-1765-GABA /cndd3/dburrows/DATA//te/rna/PE.fastq/merged//Sample_5161-GLU /cndd3/dburrows/DATA//te/rna/PE.fastq/merged//Sample_5617-GLU /cndd3/dburrows/DATA//te/rna/PE.fastq/merged//Sample_HCT15HBMA007-GABA /cndd3/dburrows/DATA//te/rna/PE.fastq/merged//Sample_198034-1435-GLU /cndd3/dburrows/DATA//te/rna/PE.fastq/merged//Sample_HCTYPA008-GLU /cndd3/dburrows/DATA//te/rna/PE.fastq/merged//Sample_5936-GLU /cndd3/dburrows/DATA//te/rna/PE.fastq/merged//Sample_5451-GABA /cndd3/dburrows/DATA//te/rna/PE.fastq/merged//Sample_5787-GABA /cndd3/dburrows/DATA//te/rna/PE.fastq/merged//Sample_1539-GLU /cndd3/dburrows/DATA//te/rna/PE.fastq/merged//Sample_HCT16HCQA020-GLU /cndd3/dburrows/DATA//te/rna/PE.fastq/merged//Sample_HCTYPA008-GABA /cndd3/dburrows/DATA//te/rna/PE.fastq/merged//Sample_4725-GLU /cndd3/dburrows/DATA//te/rna/PE.fastq/merged//Sample_5976-GLU /cndd3/dburrows/DATA//te/rna/PE.fastq/merged//Sample_5387-GLU /cndd3/dburrows/DATA//te/rna/PE.fastq/merged//Sample_1105-GABA /cndd3/dburrows/DATA//te/rna/PE.fastq/merged//Sample_HCT15HBMA007-GLU /cndd3/dburrows/DATA//te/rna/PE.fastq/merged//Sample_1134-GABA /cndd3/dburrows/DATA//te/rna/PE.fastq/merged//Sample_5086-GLU /cndd3/dburrows/DATA//te/rna/PE.fastq/merged//Sample_5606-GABA /cndd3/dburrows/DATA//te/rna/PE.fastq/merged//Sample_4321-GABA /cndd3/dburrows/DATA//te/rna/PE.fastq/merged//Sample_1275-GABA /cndd3/dburrows/DATA//te/rna/PE.fastq/merged//Sample_179134-1401-GLU /cndd3/dburrows/DATA//te/rna/PE.fastq/merged//Sample_4369-GLU /cndd3/dburrows/DATA//te/rna/PE.fastq/merged//Sample_1539-GABA /cndd3/dburrows/DATA//te/rna/PE.fastq/merged//Sample_5871-GLU /cndd3/dburrows/DATA//te/rna/PE.fastq/merged//Sample_4411-GLU /cndd3/dburrows/DATA//te/rna/PE.fastq/merged//Sample_5309-GABA /cndd3/dburrows/DATA//te/rna/PE.fastq/merged//Sample_5309-GLU /cndd3/dburrows/DATA//te/rna/PE.fastq/merged//Sample_5387-GABA /cndd3/dburrows/DATA//te/rna/PE.fastq/merged//Sample_5977-GLU /cndd3/dburrows/DATA//te/rna/PE.fastq/merged//Sample_Hct15HBNA032-GLU /cndd3/dburrows/DATA//te/rna/PE.fastq/merged//Sample_198035-1765-GLU /cndd3/dburrows/DATA//te/rna/PE.fastq/merged//Sample_1648-GABA /cndd3/dburrows/DATA//te/rna/PE.fastq/merged//Sample_5570-GLU /cndd3/dburrows/DATA//te/rna/PE.fastq/merged//Sample_5744-GLU /cndd3/dburrows/DATA//te/rna/PE.fastq/merged//Sample_HCTZZNA014-GABA /cndd3/dburrows/DATA//te/rna/PE.fastq/merged//Sample_4337-GLU /cndd3/dburrows/DATA//te/rna/PE.fastq/merged//Sample_Hct15HBNA032-GABA /cndd3/dburrows/DATA//te/rna/PE.fastq/merged//Sample_174051-1241-GABA /cndd3/dburrows/DATA//te/rna/PE.fastq/merged//Sample_1275-GLU /cndd3/dburrows/DATA//te/rna/PE.fastq/merged//Sample_4379-GLU /cndd3/dburrows/DATA//te/rna/PE.fastq/merged//Sample_HCK16HECA028-GLU /cndd3/dburrows/DATA//te/rna/PE.fastq/merged//Sample_4725-GABA /cndd3/dburrows/DATA//te/rna/PE.fastq/merged//Sample_5643-GLU /cndd3/dburrows/DATA//te/rna/PE.fastq/merged//Sample_HCTZZNA014-GLU /cndd3/dburrows/DATA//te/rna/PE.fastq/merged//Sample_HCT15HAWA031-GABA /cndd3/dburrows/DATA//te/rna/PE.fastq/merged//Sample_5617-GABA /cndd3/dburrows/DATA//te/rna/PE.fastq/merged//Sample_4321-GLU /cndd3/dburrows/DATA//te/rna/PE.fastq/merged//Sample_6285-GLU /cndd3/dburrows/DATA//te/rna/PE.fastq/merged//Sample_4425-GLU /cndd3/dburrows/DATA//te/rna/PE.fastq/merged//Sample_3739-GLU /cndd3/dburrows/DATA//te/rna/PE.fastq/merged//Sample_5936-GABA /cndd3/dburrows/DATA//te/rna/PE.fastq/merged//Sample_1134-GLU /cndd3/dburrows/DATA//te/rna/PE.fastq/merged//Sample_1133-GLU\n"
     ]
    }
   ],
   "source": [
    "%%bash\n",
    "str=$1\n",
    "\n",
    "#Define paths and variables\n",
    "inpath=$DATA3/te/rna/PE.fastq/merged/\n",
    "outpath=/cndd3/dburrows/DATA/te/rna/PE.fastq/trimmed\n",
    "id_arr=($(find $inpath/ -maxdepth 1 -name \"*Sample*$str*\"))\n",
    "\n",
    "echo ${id_arr[@]}"
   ]
  },
  {
   "cell_type": "code",
   "execution_count": 71,
   "metadata": {
    "vscode": {
     "languageId": "shellscript"
    }
   },
   "outputs": [
    {
     "name": "stdout",
     "output_type": "stream",
     "text": [
      "/cndd3/dburrows/DATA//te/rna/PE.fastq/merged//Sample_HCT15HAWA031-GLU\n",
      "/cndd3/dburrows/DATA//te/rna/PE.fastq/merged//Sample_HCT15HAWA031-GLU/R1-merge.fastq.gz /cndd3/dburrows/DATA//te/rna/PE.fastq/merged//Sample_HCT15HAWA031-GLU/R2-merge.fastq.gz\n",
      "/cndd3/dburrows/DATA//te/rna/PE.fastq/merged//Sample_1277-GLU\n",
      "/cndd3/dburrows/DATA//te/rna/PE.fastq/merged//Sample_1277-GLU/R1-merge.fastq.gz /cndd3/dburrows/DATA//te/rna/PE.fastq/merged//Sample_1277-GLU/R2-merge.fastq.gz\n",
      "/cndd3/dburrows/DATA//te/rna/PE.fastq/merged//Sample_Hct17HEIA010-GLU\n",
      "/cndd3/dburrows/DATA//te/rna/PE.fastq/merged//Sample_Hct17HEIA010-GLU/R1-merge.fastq.gz /cndd3/dburrows/DATA//te/rna/PE.fastq/merged//Sample_Hct17HEIA010-GLU/R2-merge.fastq.gz\n",
      "/cndd3/dburrows/DATA//te/rna/PE.fastq/merged//Sample_4332-GLU\n",
      "/cndd3/dburrows/DATA//te/rna/PE.fastq/merged//Sample_4332-GLU/R1-merge.fastq.gz /cndd3/dburrows/DATA//te/rna/PE.fastq/merged//Sample_4332-GLU/R2-merge.fastq.gz\n",
      "/cndd3/dburrows/DATA//te/rna/PE.fastq/merged//Sample_5451-GLU\n",
      "/cndd3/dburrows/DATA//te/rna/PE.fastq/merged//Sample_5451-GLU/R1-merge.fastq.gz /cndd3/dburrows/DATA//te/rna/PE.fastq/merged//Sample_5451-GLU/R2-merge.fastq.gz\n",
      "/cndd3/dburrows/DATA//te/rna/PE.fastq/merged//Sample_5161-GLU\n",
      "/cndd3/dburrows/DATA//te/rna/PE.fastq/merged//Sample_5161-GLU/R1-merge.fastq.gz /cndd3/dburrows/DATA//te/rna/PE.fastq/merged//Sample_5161-GLU/R2-merge.fastq.gz\n",
      "/cndd3/dburrows/DATA//te/rna/PE.fastq/merged//Sample_5617-GLU\n",
      "/cndd3/dburrows/DATA//te/rna/PE.fastq/merged//Sample_5617-GLU/R1-merge.fastq.gz /cndd3/dburrows/DATA//te/rna/PE.fastq/merged//Sample_5617-GLU/R2-merge.fastq.gz\n",
      "/cndd3/dburrows/DATA//te/rna/PE.fastq/merged//Sample_198034-1435-GLU\n",
      "/cndd3/dburrows/DATA//te/rna/PE.fastq/merged//Sample_198034-1435-GLU/R1-merge.fastq.gz /cndd3/dburrows/DATA//te/rna/PE.fastq/merged//Sample_198034-1435-GLU/R2-merge.fastq.gz\n",
      "/cndd3/dburrows/DATA//te/rna/PE.fastq/merged//Sample_HCTYPA008-GLU\n",
      "/cndd3/dburrows/DATA//te/rna/PE.fastq/merged//Sample_HCTYPA008-GLU/R1-merge.fastq.gz /cndd3/dburrows/DATA//te/rna/PE.fastq/merged//Sample_HCTYPA008-GLU/R2-merge.fastq.gz\n",
      "/cndd3/dburrows/DATA//te/rna/PE.fastq/merged//Sample_5936-GLU\n",
      "/cndd3/dburrows/DATA//te/rna/PE.fastq/merged//Sample_5936-GLU/R1-merge.fastq.gz /cndd3/dburrows/DATA//te/rna/PE.fastq/merged//Sample_5936-GLU/R2-merge.fastq.gz\n",
      "/cndd3/dburrows/DATA//te/rna/PE.fastq/merged//Sample_1539-GLU\n",
      "/cndd3/dburrows/DATA//te/rna/PE.fastq/merged//Sample_1539-GLU/R1-merge.fastq.gz /cndd3/dburrows/DATA//te/rna/PE.fastq/merged//Sample_1539-GLU/R2-merge.fastq.gz\n",
      "/cndd3/dburrows/DATA//te/rna/PE.fastq/merged//Sample_HCT16HCQA020-GLU\n",
      "/cndd3/dburrows/DATA//te/rna/PE.fastq/merged//Sample_HCT16HCQA020-GLU/R1-merge.fastq.gz /cndd3/dburrows/DATA//te/rna/PE.fastq/merged//Sample_HCT16HCQA020-GLU/R2-merge.fastq.gz\n",
      "/cndd3/dburrows/DATA//te/rna/PE.fastq/merged//Sample_4725-GLU\n",
      "/cndd3/dburrows/DATA//te/rna/PE.fastq/merged//Sample_4725-GLU/R1-merge.fastq.gz /cndd3/dburrows/DATA//te/rna/PE.fastq/merged//Sample_4725-GLU/R2-merge.fastq.gz\n",
      "/cndd3/dburrows/DATA//te/rna/PE.fastq/merged//Sample_5976-GLU\n",
      "/cndd3/dburrows/DATA//te/rna/PE.fastq/merged//Sample_5976-GLU/R1-merge.fastq.gz /cndd3/dburrows/DATA//te/rna/PE.fastq/merged//Sample_5976-GLU/R2-merge.fastq.gz\n",
      "/cndd3/dburrows/DATA//te/rna/PE.fastq/merged//Sample_5387-GLU\n",
      "/cndd3/dburrows/DATA//te/rna/PE.fastq/merged//Sample_5387-GLU/R1-merge.fastq.gz /cndd3/dburrows/DATA//te/rna/PE.fastq/merged//Sample_5387-GLU/R2-merge.fastq.gz\n",
      "/cndd3/dburrows/DATA//te/rna/PE.fastq/merged//Sample_HCT15HBMA007-GLU\n",
      "/cndd3/dburrows/DATA//te/rna/PE.fastq/merged//Sample_HCT15HBMA007-GLU/R1-merge.fastq.gz /cndd3/dburrows/DATA//te/rna/PE.fastq/merged//Sample_HCT15HBMA007-GLU/R2-merge.fastq.gz\n",
      "/cndd3/dburrows/DATA//te/rna/PE.fastq/merged//Sample_5086-GLU\n",
      "/cndd3/dburrows/DATA//te/rna/PE.fastq/merged//Sample_5086-GLU/R1-merge.fastq.gz /cndd3/dburrows/DATA//te/rna/PE.fastq/merged//Sample_5086-GLU/R2-merge.fastq.gz\n",
      "/cndd3/dburrows/DATA//te/rna/PE.fastq/merged//Sample_179134-1401-GLU\n",
      "/cndd3/dburrows/DATA//te/rna/PE.fastq/merged//Sample_179134-1401-GLU/R1-merge.fastq.gz /cndd3/dburrows/DATA//te/rna/PE.fastq/merged//Sample_179134-1401-GLU/R2-merge.fastq.gz\n",
      "/cndd3/dburrows/DATA//te/rna/PE.fastq/merged//Sample_4369-GLU\n",
      "/cndd3/dburrows/DATA//te/rna/PE.fastq/merged//Sample_4369-GLU/R1-merge.fastq.gz /cndd3/dburrows/DATA//te/rna/PE.fastq/merged//Sample_4369-GLU/R2-merge.fastq.gz\n",
      "/cndd3/dburrows/DATA//te/rna/PE.fastq/merged//Sample_5871-GLU\n",
      "/cndd3/dburrows/DATA//te/rna/PE.fastq/merged//Sample_5871-GLU/R1-merge.fastq.gz /cndd3/dburrows/DATA//te/rna/PE.fastq/merged//Sample_5871-GLU/R2-merge.fastq.gz\n",
      "/cndd3/dburrows/DATA//te/rna/PE.fastq/merged//Sample_4411-GLU\n",
      "/cndd3/dburrows/DATA//te/rna/PE.fastq/merged//Sample_4411-GLU/R1-merge.fastq.gz /cndd3/dburrows/DATA//te/rna/PE.fastq/merged//Sample_4411-GLU/R2-merge.fastq.gz\n",
      "/cndd3/dburrows/DATA//te/rna/PE.fastq/merged//Sample_5309-GLU\n",
      "/cndd3/dburrows/DATA//te/rna/PE.fastq/merged//Sample_5309-GLU/R1-merge.fastq.gz /cndd3/dburrows/DATA//te/rna/PE.fastq/merged//Sample_5309-GLU/R2-merge.fastq.gz\n",
      "/cndd3/dburrows/DATA//te/rna/PE.fastq/merged//Sample_5977-GLU\n",
      "/cndd3/dburrows/DATA//te/rna/PE.fastq/merged//Sample_5977-GLU/R1-merge.fastq.gz /cndd3/dburrows/DATA//te/rna/PE.fastq/merged//Sample_5977-GLU/R2-merge.fastq.gz\n",
      "/cndd3/dburrows/DATA//te/rna/PE.fastq/merged//Sample_Hct15HBNA032-GLU\n",
      "/cndd3/dburrows/DATA//te/rna/PE.fastq/merged//Sample_Hct15HBNA032-GLU/R1-merge.fastq.gz /cndd3/dburrows/DATA//te/rna/PE.fastq/merged//Sample_Hct15HBNA032-GLU/R2-merge.fastq.gz\n",
      "/cndd3/dburrows/DATA//te/rna/PE.fastq/merged//Sample_198035-1765-GLU\n",
      "/cndd3/dburrows/DATA//te/rna/PE.fastq/merged//Sample_198035-1765-GLU/R1-merge.fastq.gz /cndd3/dburrows/DATA//te/rna/PE.fastq/merged//Sample_198035-1765-GLU/R2-merge.fastq.gz\n",
      "/cndd3/dburrows/DATA//te/rna/PE.fastq/merged//Sample_5570-GLU\n",
      "/cndd3/dburrows/DATA//te/rna/PE.fastq/merged//Sample_5570-GLU/R1-merge.fastq.gz /cndd3/dburrows/DATA//te/rna/PE.fastq/merged//Sample_5570-GLU/R2-merge.fastq.gz\n",
      "/cndd3/dburrows/DATA//te/rna/PE.fastq/merged//Sample_5744-GLU\n",
      "/cndd3/dburrows/DATA//te/rna/PE.fastq/merged//Sample_5744-GLU/R1-merge.fastq.gz /cndd3/dburrows/DATA//te/rna/PE.fastq/merged//Sample_5744-GLU/R2-merge.fastq.gz\n",
      "/cndd3/dburrows/DATA//te/rna/PE.fastq/merged//Sample_4337-GLU\n",
      "/cndd3/dburrows/DATA//te/rna/PE.fastq/merged//Sample_4337-GLU/R1-merge.fastq.gz /cndd3/dburrows/DATA//te/rna/PE.fastq/merged//Sample_4337-GLU/R2-merge.fastq.gz\n",
      "/cndd3/dburrows/DATA//te/rna/PE.fastq/merged//Sample_1275-GLU\n",
      "/cndd3/dburrows/DATA//te/rna/PE.fastq/merged//Sample_1275-GLU/R1-merge.fastq.gz /cndd3/dburrows/DATA//te/rna/PE.fastq/merged//Sample_1275-GLU/R2-merge.fastq.gz\n",
      "/cndd3/dburrows/DATA//te/rna/PE.fastq/merged//Sample_4379-GLU\n",
      "/cndd3/dburrows/DATA//te/rna/PE.fastq/merged//Sample_4379-GLU/R1-merge.fastq.gz /cndd3/dburrows/DATA//te/rna/PE.fastq/merged//Sample_4379-GLU/R2-merge.fastq.gz\n",
      "/cndd3/dburrows/DATA//te/rna/PE.fastq/merged//Sample_HCK16HECA028-GLU\n",
      "/cndd3/dburrows/DATA//te/rna/PE.fastq/merged//Sample_HCK16HECA028-GLU/R1-merge.fastq.gz /cndd3/dburrows/DATA//te/rna/PE.fastq/merged//Sample_HCK16HECA028-GLU/R2-merge.fastq.gz\n",
      "/cndd3/dburrows/DATA//te/rna/PE.fastq/merged//Sample_5643-GLU\n",
      "/cndd3/dburrows/DATA//te/rna/PE.fastq/merged//Sample_5643-GLU/R1-merge.fastq.gz /cndd3/dburrows/DATA//te/rna/PE.fastq/merged//Sample_5643-GLU/R2-merge.fastq.gz\n",
      "/cndd3/dburrows/DATA//te/rna/PE.fastq/merged//Sample_HCTZZNA014-GLU\n",
      "/cndd3/dburrows/DATA//te/rna/PE.fastq/merged//Sample_HCTZZNA014-GLU/R1-merge.fastq.gz /cndd3/dburrows/DATA//te/rna/PE.fastq/merged//Sample_HCTZZNA014-GLU/R2-merge.fastq.gz\n",
      "/cndd3/dburrows/DATA//te/rna/PE.fastq/merged//Sample_4321-GLU\n",
      "/cndd3/dburrows/DATA//te/rna/PE.fastq/merged//Sample_4321-GLU/R1-merge.fastq.gz /cndd3/dburrows/DATA//te/rna/PE.fastq/merged//Sample_4321-GLU/R2-merge.fastq.gz\n",
      "/cndd3/dburrows/DATA//te/rna/PE.fastq/merged//Sample_6285-GLU\n",
      "/cndd3/dburrows/DATA//te/rna/PE.fastq/merged//Sample_6285-GLU/R1-merge.fastq.gz /cndd3/dburrows/DATA//te/rna/PE.fastq/merged//Sample_6285-GLU/R2-merge.fastq.gz\n",
      "/cndd3/dburrows/DATA//te/rna/PE.fastq/merged//Sample_4425-GLU\n",
      "/cndd3/dburrows/DATA//te/rna/PE.fastq/merged//Sample_4425-GLU/R1-merge.fastq.gz /cndd3/dburrows/DATA//te/rna/PE.fastq/merged//Sample_4425-GLU/R2-merge.fastq.gz\n",
      "/cndd3/dburrows/DATA//te/rna/PE.fastq/merged//Sample_3739-GLU\n",
      "/cndd3/dburrows/DATA//te/rna/PE.fastq/merged//Sample_3739-GLU/R1-merge.fastq.gz /cndd3/dburrows/DATA//te/rna/PE.fastq/merged//Sample_3739-GLU/R2-merge.fastq.gz\n",
      "/cndd3/dburrows/DATA//te/rna/PE.fastq/merged//Sample_1134-GLU\n",
      "/cndd3/dburrows/DATA//te/rna/PE.fastq/merged//Sample_1134-GLU/R1-merge.fastq.gz /cndd3/dburrows/DATA//te/rna/PE.fastq/merged//Sample_1134-GLU/R2-merge.fastq.gz\n",
      "/cndd3/dburrows/DATA//te/rna/PE.fastq/merged//Sample_1133-GLU}\n"
     ]
    },
    {
     "name": "stderr",
     "output_type": "stream",
     "text": [
      "ls: cannot access '/cndd3/dburrows/DATA//te/rna/PE.fastq/merged//Sample_1133-GLU}': No such file or directory\n"
     ]
    },
    {
     "name": "stdout",
     "output_type": "stream",
     "text": [
      "/cndd3/dburrows/DATA//te/rna/PE.fastq/merged//Sample_1133-GLU}/ /cndd3/dburrows/DATA//te/rna/PE.fastq/merged//Sample_1133-GLU}/\n"
     ]
    }
   ],
   "source": [
    "%%bash\n",
    "str=$1\n",
    "\n",
    "#Define paths and variables\n",
    "inpath=$DATA3/te/rna/PE.fastq/merged/\n",
    "outpath=/cndd3/dburrows/DATA/te/rna/PE.fastq/trimmed\n",
    "id_arr=($(find $inpath/ -maxdepth 1 -name \"*Sample*$str*\"))\n",
    "\n",
    "#Loop over each sample\n",
    "for i in ${id_arr[@]:20:${#id_arr[@]}}}\n",
    "do\n",
    "    echo $i\n",
    "    read_a=($(ls $i))\n",
    "    $CODE3/te_ageing/trim_galore.sh 8 3 20 0.1 $i/${read_a[0]} $i/${read_a[1]} $outpath/$(basename $i)\n",
    "    cp $CODE3/te_ageing/workspace.sh $outpath/$(basename $i)/log.workspace\n",
    "    cp $CODE3/te_ageing/trim_galore.sh $outpath/$(basename $i)/log.trim_galore\n",
    "\n",
    "done"
   ]
  },
  {
   "cell_type": "code",
   "execution_count": 66,
   "metadata": {
    "vscode": {
     "languageId": "shellscript"
    }
   },
   "outputs": [
    {
     "name": "stdout",
     "output_type": "stream",
     "text": [
      "/cndd3/dburrows/DATA//te/rna/PE.fastq/merged//Sample_5401-GLU\n",
      "/cndd3/dburrows/DATA//te/rna/PE.fastq/merged//Sample_4414-GLU\n",
      "/cndd3/dburrows/DATA//te/rna/PE.fastq/merged//Sample_1105-GLU\n",
      "/cndd3/dburrows/DATA//te/rna/PE.fastq/merged//Sample_4545-GLU\n",
      "/cndd3/dburrows/DATA//te/rna/PE.fastq/merged//Sample_174051-1241-GLU\n",
      "/cndd3/dburrows/DATA//te/rna/PE.fastq/merged//Sample_4428-GLU\n",
      "/cndd3/dburrows/DATA//te/rna/PE.fastq/merged//Sample_5446-GLU\n",
      "/cndd3/dburrows/DATA//te/rna/PE.fastq/merged//Sample_5787-GLU\n",
      "/cndd3/dburrows/DATA//te/rna/PE.fastq/merged//Sample_1648-GLU\n",
      "/cndd3/dburrows/DATA//te/rna/PE.fastq/merged//Sample_5326-GLU\n",
      "/cndd3/dburrows/DATA//te/rna/PE.fastq/merged//Sample_1535-GLU\n",
      "/cndd3/dburrows/DATA//te/rna/PE.fastq/merged//Sample_6007-GLU\n",
      "/cndd3/dburrows/DATA//te/rna/PE.fastq/merged//Sample_6032-GLU\n",
      "/cndd3/dburrows/DATA//te/rna/PE.fastq/merged//Sample_1823-GLU\n",
      "/cndd3/dburrows/DATA//te/rna/PE.fastq/merged//Sample_5184-GLU\n",
      "/cndd3/dburrows/DATA//te/rna/PE.fastq/merged//Sample_5293-GLU\n",
      "/cndd3/dburrows/DATA//te/rna/PE.fastq/merged//Sample_5606-GLU\n",
      "/cndd3/dburrows/DATA//te/rna/PE.fastq/merged//Sample_5918-GLU\n",
      "/cndd3/dburrows/DATA//te/rna/PE.fastq/merged//Sample_1848-GLU\n",
      "/cndd3/dburrows/DATA//te/rna/PE.fastq/merged//Sample_5077-GLU\n",
      "/cndd3/dburrows/DATA//te/rna/PE.fastq/merged//Sample_HCT15HAWA031-GLU\n",
      "/cndd3/dburrows/DATA//te/rna/PE.fastq/merged//Sample_1277-GLU\n",
      "/cndd3/dburrows/DATA//te/rna/PE.fastq/merged//Sample_Hct17HEIA010-GLU\n",
      "/cndd3/dburrows/DATA//te/rna/PE.fastq/merged//Sample_4332-GLU\n",
      "/cndd3/dburrows/DATA//te/rna/PE.fastq/merged//Sample_5451-GLU\n",
      "/cndd3/dburrows/DATA//te/rna/PE.fastq/merged//Sample_5161-GLU\n",
      "/cndd3/dburrows/DATA//te/rna/PE.fastq/merged//Sample_5617-GLU\n",
      "/cndd3/dburrows/DATA//te/rna/PE.fastq/merged//Sample_198034-1435-GLU\n",
      "/cndd3/dburrows/DATA//te/rna/PE.fastq/merged//Sample_HCTYPA008-GLU\n",
      "/cndd3/dburrows/DATA//te/rna/PE.fastq/merged//Sample_5936-GLU\n",
      "/cndd3/dburrows/DATA//te/rna/PE.fastq/merged//Sample_1539-GLU\n",
      "/cndd3/dburrows/DATA//te/rna/PE.fastq/merged//Sample_HCT16HCQA020-GLU\n",
      "/cndd3/dburrows/DATA//te/rna/PE.fastq/merged//Sample_4725-GLU\n",
      "/cndd3/dburrows/DATA//te/rna/PE.fastq/merged//Sample_5976-GLU\n",
      "/cndd3/dburrows/DATA//te/rna/PE.fastq/merged//Sample_5387-GLU\n",
      "/cndd3/dburrows/DATA//te/rna/PE.fastq/merged//Sample_HCT15HBMA007-GLU\n",
      "/cndd3/dburrows/DATA//te/rna/PE.fastq/merged//Sample_5086-GLU\n",
      "/cndd3/dburrows/DATA//te/rna/PE.fastq/merged//Sample_179134-1401-GLU\n",
      "/cndd3/dburrows/DATA//te/rna/PE.fastq/merged//Sample_4369-GLU\n",
      "/cndd3/dburrows/DATA//te/rna/PE.fastq/merged//Sample_5871-GLU\n",
      "/cndd3/dburrows/DATA//te/rna/PE.fastq/merged//Sample_4411-GLU\n",
      "/cndd3/dburrows/DATA//te/rna/PE.fastq/merged//Sample_5309-GLU\n",
      "/cndd3/dburrows/DATA//te/rna/PE.fastq/merged//Sample_5977-GLU\n",
      "/cndd3/dburrows/DATA//te/rna/PE.fastq/merged//Sample_Hct15HBNA032-GLU\n",
      "/cndd3/dburrows/DATA//te/rna/PE.fastq/merged//Sample_198035-1765-GLU\n",
      "/cndd3/dburrows/DATA//te/rna/PE.fastq/merged//Sample_5570-GLU\n",
      "/cndd3/dburrows/DATA//te/rna/PE.fastq/merged//Sample_5744-GLU\n",
      "/cndd3/dburrows/DATA//te/rna/PE.fastq/merged//Sample_4337-GLU\n",
      "/cndd3/dburrows/DATA//te/rna/PE.fastq/merged//Sample_1275-GLU\n",
      "/cndd3/dburrows/DATA//te/rna/PE.fastq/merged//Sample_4379-GLU\n",
      "/cndd3/dburrows/DATA//te/rna/PE.fastq/merged//Sample_HCK16HECA028-GLU\n",
      "/cndd3/dburrows/DATA//te/rna/PE.fastq/merged//Sample_5643-GLU\n",
      "/cndd3/dburrows/DATA//te/rna/PE.fastq/merged//Sample_HCTZZNA014-GLU\n",
      "/cndd3/dburrows/DATA//te/rna/PE.fastq/merged//Sample_4321-GLU\n",
      "/cndd3/dburrows/DATA//te/rna/PE.fastq/merged//Sample_6285-GLU\n",
      "/cndd3/dburrows/DATA//te/rna/PE.fastq/merged//Sample_4425-GLU\n",
      "/cndd3/dburrows/DATA//te/rna/PE.fastq/merged//Sample_3739-GLU\n",
      "/cndd3/dburrows/DATA//te/rna/PE.fastq/merged//Sample_1134-GLU\n",
      "/cndd3/dburrows/DATA//te/rna/PE.fastq/merged//Sample_1133-GLU\n"
     ]
    }
   ],
   "source": [
    "%%bash\n",
    "str=GLU\n",
    "\n",
    "#Define paths and variables\n",
    "inpath=$DATA3/te/rna/PE.fastq/merged/\n",
    "outpath=/cndd3/dburrows/DATA/te/rna/PE.fastq/trimmed\n",
    "id_arr=($(find $inpath/ -maxdepth 1 -name \"*Sample*$str*\"))\n",
    "\n",
    "#Loop over each sample\n",
    "for i in ${id_arr[@]}\n",
    "do\n",
    "    echo $i\n",
    "    # read_a=($(ls $i))\n",
    "    # $CODE3/te_ageing/trim_galore.sh 8 3 20 0.1 $i/${read_a[0]} $i/${read_a[1]} $outpath/$(basename $i)\n",
    "    # cp $CODE3/te_ageing/workspace.sh $outpath/$(basename $i)/log.workspace\n",
    "    # cp $CODE3/te_ageing/trim_galore.sh $outpath/$(basename $i)/log.trim_galore\n",
    "\n",
    "done"
   ]
  },
  {
   "cell_type": "code",
   "execution_count": 47,
   "metadata": {},
   "outputs": [
    {
     "name": "stdout",
     "output_type": "stream",
     "text": [
      "Found Sample_HCK16HECA028-GABA\n",
      "['R1-merge.fastq.gz_trimming_report.txt', 'R1-merge_trimmed.fq.gz', 'R1-merge_val_1.fq.gz', 'R1-merge_val_1_fastqc.html', 'R1-merge_val_1_fastqc.zip', 'R2-merge.fastq.gz_trimming_report.txt', 'R2-merge_trimmed.fq.gz', 'R2-merge_val_2.fq.gz']\n",
      "Found prac\n",
      "['Aligned.sortedByCoord.out.bam', 'Aligned.toTranscriptome.out.bam', 'Log.final.out', 'Log.out', 'Log.progress.out', 'R1-merge.fastq.gz_trimming_report.txt', 'R1-merge_val_1.fq.gz', 'R1-merge_val_1_fastqc.html', 'R1-merge_val_1_fastqc.zip', 'R2-merge.fastq.gz_trimming_report.txt', 'R2-merge_val_2.fq.gz', 'R2-merge_val_2_fastqc.html', 'R2-merge_val_2_fastqc.zip', 'ReadsPerGene.out.tab', 'SJ.out.tab', '_STARtmp']\n"
     ]
    }
   ],
   "source": [
    "import glob\n",
    "import os\n",
    "\n",
    "os.chdir('/cndd3/dburrows/DATA/te/rna/PE.fastq/trimmed/')\n",
    "for n in os.listdir():\n",
    "    curr = os.listdir('/cndd3/dburrows/DATA/te/rna/PE.fastq/trimmed/' + n)\n",
    "    if 'R1-merge_val_1.fq.gz' not in curr or 'R2-merge_val_2.fq.gz' not in curr or 'log.workspace' not in curr or 'log.trim_galore' not in curr:\n",
    "        print('Found ' + n)\n",
    "        print(sorted(curr))   "
   ]
  },
  {
   "cell_type": "code",
   "execution_count": null,
   "metadata": {
    "vscode": {
     "languageId": "shellscript"
    }
   },
   "outputs": [],
   "source": [
    "STAR --genomeDir /cndd3/dburrows/DATA/te/gtf//annotations/gencode/STAR.gencode.v37 --readFilesIn /cndd3/dburrows/DATA/te/rna/PE.fastq/trimmed/prac/R1-merge_val_1.fq.gz /cndd3/dburrows/DATA/te/rna/PE.fastq/trimmed/prac/R2-merge_val_2.fq.gz --outSAMunmapped None --outFilterType BySJout --outSAMattributes All --outFilterMultimapNmax 100 --outFilterMismatchNmax 999 --outFilterMismatchNoverReadLmax 0.04 --alignIntronMin 20 --alignIntronMax 1000000 --alignMatesGapMax 1000000 --alignSJoverhangMin 8 --alignSJDBoverhangMin 1 --sjdbScore 1 --readFilesCommand zcat --runThreadN 16 --genomeLoad LoadAndKeep --limitBAMsortRAM 10000000000 --outSAMtype BAM SortedByCoordinate --quantMode TranscriptomeSAM GeneCounts --winAnchorMultimapNmax 200 --outMultimapperOrder Random --outSAMmultNmax -1 "
   ]
  }
 ],
 "metadata": {
  "kernelspec": {
   "display_name": "base",
   "language": "python",
   "name": "python3"
  },
  "language_info": {
   "codemirror_mode": {
    "name": "ipython",
    "version": 3
   },
   "file_extension": ".py",
   "mimetype": "text/x-python",
   "name": "python",
   "nbconvert_exporter": "python",
   "pygments_lexer": "ipython3",
   "version": "3.9.12"
  },
  "orig_nbformat": 4
 },
 "nbformat": 4,
 "nbformat_minor": 2
}
