{
 "cells": [
  {
   "cell_type": "code",
   "execution_count": 47,
   "metadata": {
    "vscode": {
     "languageId": "shellscript"
    }
   },
   "outputs": [
    {
     "name": "stdout",
     "output_type": "stream",
     "text": [
      "/cndd3/dburrows/DATA//te/rna/PE.fastq/merged//Sample_4545-GABA\n",
      "/cndd3/dburrows/DATA//te/rna/PE.fastq/merged//Sample_6032-GABA\n",
      "/cndd3/dburrows/DATA//te/rna/PE.fastq/merged//Sample_5977-GABA\n",
      "/cndd3/dburrows/DATA//te/rna/PE.fastq/merged//Sample_4369-GABA\n",
      "/cndd3/dburrows/DATA//te/rna/PE.fastq/merged//Sample_1133-GABA\n",
      "/cndd3/dburrows/DATA//te/rna/PE.fastq/merged//Sample_4414-GABA\n",
      "/cndd3/dburrows/DATA//te/rna/PE.fastq/merged//Sample_6007-GABA\n",
      "/cndd3/dburrows/DATA//te/rna/PE.fastq/merged//Sample_4425-GABA\n",
      "/cndd3/dburrows/DATA//te/rna/PE.fastq/merged//Sample_5446-GABA\n",
      "/cndd3/dburrows/DATA//te/rna/PE.fastq/merged//Sample_5871-GABA\n",
      "/cndd3/dburrows/DATA//te/rna/PE.fastq/merged//Sample_5401-GABA\n",
      "/cndd3/dburrows/DATA//te/rna/PE.fastq/merged//Sample_198034-1435-GABA\n",
      "/cndd3/dburrows/DATA//te/rna/PE.fastq/merged//Sample_5744-GABA\n",
      "/cndd3/dburrows/DATA//te/rna/PE.fastq/merged//Sample_5293-GABA\n",
      "/cndd3/dburrows/DATA//te/rna/PE.fastq/merged//Sample_HCT16HCQA020-GABA\n",
      "/cndd3/dburrows/DATA//te/rna/PE.fastq/merged//Sample_1848-GABA\n",
      "/cndd3/dburrows/DATA//te/rna/PE.fastq/merged//Sample_4332-GABA\n",
      "/cndd3/dburrows/DATA//te/rna/PE.fastq/merged//Sample_4379-GABA\n",
      "/cndd3/dburrows/DATA//te/rna/PE.fastq/merged//Sample_5918-GABA\n",
      "/cndd3/dburrows/DATA//te/rna/PE.fastq/merged//Sample_5184-GABA\n",
      "/cndd3/dburrows/DATA//te/rna/PE.fastq/merged//Sample_4337-GABA\n",
      "/cndd3/dburrows/DATA//te/rna/PE.fastq/merged//Sample_4428-GABA\n",
      "/cndd3/dburrows/DATA//te/rna/PE.fastq/merged//Sample_HCK16HECA028-GABA\n",
      "/cndd3/dburrows/DATA//te/rna/PE.fastq/merged//Sample_179134-1401-GABA\n",
      "/cndd3/dburrows/DATA//te/rna/PE.fastq/merged//Sample_5643-GABA\n",
      "/cndd3/dburrows/DATA//te/rna/PE.fastq/merged//Sample_5077-GABA\n",
      "/cndd3/dburrows/DATA//te/rna/PE.fastq/merged//Sample_5086-GABA\n",
      "/cndd3/dburrows/DATA//te/rna/PE.fastq/merged//Sample_5326-GABA\n",
      "/cndd3/dburrows/DATA//te/rna/PE.fastq/merged//Sample_4411-GABA\n",
      "/cndd3/dburrows/DATA//te/rna/PE.fastq/merged//Sample_Hct17HEIA010-GABA\n",
      "/cndd3/dburrows/DATA//te/rna/PE.fastq/merged//Sample_1277-GABA\n",
      "/cndd3/dburrows/DATA//te/rna/PE.fastq/merged//Sample_5976-GABA\n",
      "/cndd3/dburrows/DATA//te/rna/PE.fastq/merged//Sample_1823-GABA\n",
      "/cndd3/dburrows/DATA//te/rna/PE.fastq/merged//Sample_6285-GABA\n",
      "/cndd3/dburrows/DATA//te/rna/PE.fastq/merged//Sample_5570-GABA\n",
      "/cndd3/dburrows/DATA//te/rna/PE.fastq/merged//Sample_5161-GABA\n",
      "/cndd3/dburrows/DATA//te/rna/PE.fastq/merged//Sample_198035-1765-GABA\n",
      "/cndd3/dburrows/DATA//te/rna/PE.fastq/merged//Sample_HCT15HBMA007-GABA\n",
      "/cndd3/dburrows/DATA//te/rna/PE.fastq/merged//Sample_5451-GABA\n",
      "/cndd3/dburrows/DATA//te/rna/PE.fastq/merged//Sample_5787-GABA\n",
      "/cndd3/dburrows/DATA//te/rna/PE.fastq/merged//Sample_HCTYPA008-GABA\n",
      "/cndd3/dburrows/DATA//te/rna/PE.fastq/merged//Sample_1105-GABA\n",
      "/cndd3/dburrows/DATA//te/rna/PE.fastq/merged//Sample_1134-GABA\n",
      "/cndd3/dburrows/DATA//te/rna/PE.fastq/merged//Sample_5606-GABA\n",
      "/cndd3/dburrows/DATA//te/rna/PE.fastq/merged//Sample_4321-GABA\n",
      "/cndd3/dburrows/DATA//te/rna/PE.fastq/merged//Sample_1275-GABA\n",
      "/cndd3/dburrows/DATA//te/rna/PE.fastq/merged//Sample_1539-GABA\n",
      "/cndd3/dburrows/DATA//te/rna/PE.fastq/merged//Sample_5309-GABA\n",
      "/cndd3/dburrows/DATA//te/rna/PE.fastq/merged//Sample_5387-GABA\n",
      "/cndd3/dburrows/DATA//te/rna/PE.fastq/merged//Sample_1648-GABA\n",
      "/cndd3/dburrows/DATA//te/rna/PE.fastq/merged//Sample_HCTZZNA014-GABA\n",
      "/cndd3/dburrows/DATA//te/rna/PE.fastq/merged//Sample_Hct15HBNA032-GABA\n",
      "/cndd3/dburrows/DATA//te/rna/PE.fastq/merged//Sample_174051-1241-GABA\n",
      "/cndd3/dburrows/DATA//te/rna/PE.fastq/merged//Sample_4725-GABA\n",
      "/cndd3/dburrows/DATA//te/rna/PE.fastq/merged//Sample_HCT15HAWA031-GABA\n",
      "/cndd3/dburrows/DATA//te/rna/PE.fastq/merged//Sample_5617-GABA\n",
      "/cndd3/dburrows/DATA//te/rna/PE.fastq/merged//Sample_5936-GABA\n"
     ]
    }
   ],
   "source": [
    "%%bash\n",
    "\n",
    "str=GABA #$1\n",
    "\n",
    "#Define paths and variables\n",
    "inpath=$DATA3/te/rna/PE.fastq/merged/\n",
    "outpath=/cndd3/dburrows/DATA/te/rna/PE.fastq/trimmed\n",
    "id_arr=($(find $inpath/ -maxdepth 1 -name \"*Sample*$str*\"))\n",
    "\n",
    "#Loop over each sample\n",
    "for i in ${id_arr[@]}\n",
    "do\n",
    "    echo $i\n",
    "\n",
    "\n",
    "done\n"
   ]
  },
  {
   "cell_type": "code",
   "execution_count": null,
   "metadata": {
    "vscode": {
     "languageId": "shellscript"
    }
   },
   "outputs": [],
   "source": [
    "STAR --genomeDir /cndd3/dburrows/DATA/te/gtf//annotations/gencode/STAR.gencode.v37 --readFilesIn /cndd3/dburrows/DATA/te/rna/PE.fastq/trimmed/prac/R1-merge_val_1.fq.gz /cndd3/dburrows/DATA/te/rna/PE.fastq/trimmed/prac/R2-merge_val_2.fq.gz --outSAMunmapped None --outFilterType BySJout --outSAMattributes All --outFilterMultimapNmax 100 --outFilterMismatchNmax 999 --outFilterMismatchNoverReadLmax 0.04 --alignIntronMin 20 --alignIntronMax 1000000 --alignMatesGapMax 1000000 --alignSJoverhangMin 8 --alignSJDBoverhangMin 1 --sjdbScore 1 --readFilesCommand zcat --runThreadN 16 --genomeLoad LoadAndKeep --limitBAMsortRAM 10000000000 --outSAMtype BAM SortedByCoordinate --quantMode TranscriptomeSAM GeneCounts --winAnchorMultimapNmax 200 --outMultimapperOrder Random --outSAMmultNmax -1 "
   ]
  }
 ],
 "metadata": {
  "kernelspec": {
   "display_name": "base",
   "language": "python",
   "name": "python3"
  },
  "language_info": {
   "codemirror_mode": {
    "name": "ipython",
    "version": 3
   },
   "file_extension": ".py",
   "mimetype": "text/x-python",
   "name": "python",
   "nbconvert_exporter": "python",
   "pygments_lexer": "ipython3",
   "version": "3.9.12"
  },
  "orig_nbformat": 4
 },
 "nbformat": 4,
 "nbformat_minor": 2
}
