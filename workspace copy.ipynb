{
 "cells": [
  {
   "cell_type": "code",
   "execution_count": 1,
   "metadata": {
    "vscode": {
     "languageId": "shellscript"
    }
   },
   "outputs": [
    {
     "data": {
      "text/plain": [
       "'3.9.12 (main, Apr  5 2022, 06:56:58) \\n[GCC 7.5.0]'"
      ]
     },
     "execution_count": 1,
     "metadata": {},
     "output_type": "execute_result"
    }
   ],
   "source": [
    "#Import packages\n",
    "#---------------------------------------\n",
    "import sys\n",
    "import os\n",
    "import glob\n",
    "import pandas as pd\n",
    "from matplotlib import pyplot as plt\n",
    "import numpy as np\n",
    "import pygtftk as gtftk\n",
    "import pyranges as pr\n",
    "\n",
    "#Import your modules\n",
    "#---------------------------------------\n",
    "import te_rna_f as te\n",
    "import admin_tools as ad\n",
    "\n",
    "# Define paths\n",
    "#----------------------------------------------------------------------\n",
    "l_code = '/Users/dominicburrows/Dropbox/PhD/Analysis/my_scripts/GitHub/'\n",
    "l_data = '/Users/dominicburrows/Dropbox/PhD/analysis/Project/'\n",
    "l_fig = '/Users/dominicburrows/Dropbox/PhD/figures/'\n",
    "\n",
    "s_code = '/cndd3/dburrows/CODE/'\n",
    "s_data = '/cndd3/dburrows/DATA/'\n",
    "s_fig = '/cndd3/dburrows/FIGS/'\n",
    "\n",
    "%load_ext autoreload\n",
    "sys.version"
   ]
  },
  {
   "cell_type": "code",
   "execution_count": 2,
   "metadata": {
    "vscode": {
     "languageId": "shellscript"
    }
   },
   "outputs": [],
   "source": [
    "#Read in required files for filtering\n",
    "bed_pl = pd.read_csv('/cndd3/dburrows/DATA/te/gtf/bed/rmsk.hg38.filt-5ptrim.sort.plus.bed', sep='\\t', header=None)\n",
    "bed_pl.columns =['Chromosome', 'Start', 'End', 'Strand', 'transcript_id', 'gene_id', 'family_id', 'class_id']\n",
    "bed_mi = pd.read_csv('/cndd3/dburrows/DATA/te/gtf/bed/rmsk.hg38.filt-5ptrim.sort.minus.bed',sep='\\t', header=None)\n",
    "bed_mi.columns =['Chromosome', 'Start', 'End', 'Strand', 'transcript_id', 'gene_id', 'family_id', 'class_id']\n",
    "\n",
    "bam_pl = pr.read_bam('/cndd3/dburrows/DATA/te/rna/filt.prac/prac/prac.plus.filt.bam', as_df=True)\n",
    "bam_mi = pr.read_bam('/cndd3/dburrows/DATA/te/rna/filt.prac/prac/prac.minus.filt.bam', as_df=True)\n",
    "\n",
    "#File checks\n",
    "assert sum(bam_pl['Strand'] == '+') == len(bam_pl), 'Some non plus strands assigned to plus bam'\n",
    "assert sum(bam_mi['Strand'] == '-') == len(bam_mi), 'Some non minus strands assigned to minus bam'\n",
    "assert sum(bed_pl['Strand'] == '+') == len(bed_pl), 'Some non plus strands assigned to plus bed'\n",
    "assert sum(bed_mi['Strand'] == '-') == len(bed_mi), 'Some non minus strands assigned to minus bed'\n"
   ]
  },
  {
   "cell_type": "code",
   "execution_count": 3,
   "metadata": {
    "vscode": {
     "languageId": "shellscript"
    }
   },
   "outputs": [
    {
     "name": "stdout",
     "output_type": "stream",
     "text": [
      "0 chr1\n",
      "1 chr10\n",
      "2 chr11\n",
      "3 chr12\n",
      "4 chr13\n",
      "5 chr14\n",
      "6 chr15\n",
      "7 chr16\n",
      "8 chr17\n",
      "9 chr18\n",
      "10 chr19\n",
      "11 chr2\n",
      "12 chr20\n",
      "13 chr21\n",
      "14 chr22\n",
      "15 chr3\n",
      "16 chr4\n",
      "17 chr5\n",
      "18 chr6\n",
      "19 chr7\n",
      "20 chr8\n",
      "21 chr9\n",
      "22 chrX\n",
      "23 chrY\n"
     ]
    }
   ],
   "source": [
    "#DEF for +/-\n",
    "# Filter out reads that do not overlap with 5' portion of insertion\n",
    "\n",
    "curr_bed = bed_pl\n",
    "curr_bam = bam_pl\n",
    "curr_name = pd.read_csv('/cndd3/dburrows/DATA/te/rna/filt.prac/prac/prac.plus.umi.txt', sep='\\t', header=None)\n",
    "assert len(curr_bam) == len(curr_name), 'Bam and UMI files not the same length'\n",
    "curr_bam['UMI']=curr_name[0].values\n",
    "\n",
    "#Loop through each chromosome\n",
    "chr_unq = np.unique(curr_bam['Chromosome'].values)\n",
    "for i,chr in enumerate(chr_unq):\n",
    "    print(i, chr)"
   ]
  },
  {
   "cell_type": "code",
   "execution_count": 4,
   "metadata": {
    "vscode": {
     "languageId": "shellscript"
    }
   },
   "outputs": [],
   "source": [
    "#Slice bed/bam files by chromosome\n",
    "chr = chr_unq[0]\n",
    "chr_bam = curr_bam[curr_bam['Chromosome'] == chr]\n",
    "chr_bed = curr_bed[curr_bed['Chromosome'] == chr]\n",
    "\n"
   ]
  },
  {
   "cell_type": "code",
   "execution_count": 5,
   "metadata": {
    "vscode": {
     "languageId": "shellscript"
    }
   },
   "outputs": [],
   "source": [
    "#Generate flattened vector of 5' insertion positions and their indeces\n",
    "all_bed_pos = np.asarray([(np.arange(chr_bed['Start'].values[i], chr_bed['End'].values[i]+1), np.full(chr_bed['End'].values[i]+1 - chr_bed['Start'].values[i],i)) for i in range(len(chr_bed))]) #list of all bed positions for each insertion and their indeces\n",
    "assert len(all_bed_pos) == len(chr_bed), 'Not all bed positions accounted for'\n",
    "\n",
    "flat_bed_pos = np.ravel(np.asarray(all_bed_pos)[:,0,:]) # flattened vector of all 5' regions across all insertions\n",
    "flat_bed_ind = np.ravel(np.asarray(all_bed_pos)[:,1,:]) # flattened vector of indeces for each region that maps it back onto the original bed file\n",
    "assert len(flat_bed_pos) == len(flat_bed_ind), 'Bed position and index vectors not the same length'\n",
    "\n",
    "#Check that all remaining reads align to bed file \n",
    "#assert sum(np.in1d(curr_bam['Start'].values, flat_bed_pos)) == len(curr_bam), 'Not all reads align to bed file'"
   ]
  },
  {
   "cell_type": "code",
   "execution_count": 6,
   "metadata": {
    "vscode": {
     "languageId": "shellscript"
    }
   },
   "outputs": [
    {
     "name": "stderr",
     "output_type": "stream",
     "text": [
      "/tmp/ipykernel_1724654/2096402078.py:1: VisibleDeprecationWarning: Creating an ndarray from ragged nested sequences (which is a list-or-tuple of lists-or-tuples-or ndarrays with different lengths or shapes) is deprecated. If you meant to do this, you must specify 'dtype=object' when creating the ndarray.\n",
      "  pr = np.asarray([np.arange(chr_bam['Start'].values[i], chr_bam['End'].values[i]+1) for i in range(len(chr_bam))])\n"
     ]
    }
   ],
   "source": [
    "pr = np.asarray([np.arange(chr_bam['Start'].values[i], chr_bam['End'].values[i]+1) for i in range(len(chr_bam))])\n"
   ]
  },
  {
   "cell_type": "code",
   "execution_count": 7,
   "metadata": {
    "vscode": {
     "languageId": "shellscript"
    }
   },
   "outputs": [],
   "source": [
    "import time\n",
    "start = time.time()\n",
    "count=0\n",
    "for p in pr:\n",
    "    if np.any(np.in1d(p, flat_bed_pos)):\n",
    "        count+=1\n",
    "print(time.time()-start)"
   ]
  },
  {
   "cell_type": "code",
   "execution_count": null,
   "metadata": {
    "vscode": {
     "languageId": "shellscript"
    }
   },
   "outputs": [],
   "source": [
    "# get BAM file of final aligning reads\n",
    "bam_bool = np.in1d(chr_bam['Start'].values, flat_bed_pos) #Boolean of indeces of reads whose tss overlaps with bed files\n",
    "bam_final = chr_bam[bam_bool] #Final bam reads that have aligned to 5' ends\n",
    "\n",
    "#Assert??? -> check they all indeed align?? \n",
    "bam_final"
   ]
  },
  {
   "cell_type": "code",
   "execution_count": null,
   "metadata": {
    "vscode": {
     "languageId": "shellscript"
    }
   },
   "outputs": [],
   "source": [
    "\n",
    "test = np.asarray([np.arange(bam_final['Start'].values[i], bam_final['Start'].values[i]+1) for i in range(len(bam_final))])\n"
   ]
  },
  {
   "cell_type": "code",
   "execution_count": null,
   "metadata": {
    "vscode": {
     "languageId": "shellscript"
    }
   },
   "outputs": [],
   "source": [
    "start = time.time()\n",
    "count=0\n",
    "for t in test:\n",
    "    if np.any(np.in1d(t, flat_bed_pos)):\n",
    "        count+=1\n",
    "print(time.time()-start)"
   ]
  },
  {
   "cell_type": "code",
   "execution_count": 3,
   "metadata": {
    "vscode": {
     "languageId": "shellscript"
    }
   },
   "outputs": [
    {
     "name": "stdout",
     "output_type": "stream",
     "text": [
      "/cndd3/dburrows/DATA/te/rna/PE.fastq/trimmed/Sample_HCTYPA008-GLU/R1-merge_val_1.fq.gz /cndd3/dburrows/DATA/te/rna/PE.fastq/trimmed/Sample_HCTYPA008-GLU/R2-merge_val_2.fq.gz\n",
      "/cndd3/dburrows/DATA/te/rna/PE.fastq/trimmed/Sample_5086-GLU/R1-merge_val_1.fq.gz /cndd3/dburrows/DATA/te/rna/PE.fastq/trimmed/Sample_5086-GLU/R2-merge_val_2.fq.gz\n",
      "/cndd3/dburrows/DATA/te/rna/PE.fastq/trimmed/Sample_4379-GABA/R1-merge_val_1.fq.gz /cndd3/dburrows/DATA/te/rna/PE.fastq/trimmed/Sample_4379-GABA/R2-merge_val_2.fq.gz\n",
      "/cndd3/dburrows/DATA/te/rna/PE.fastq/trimmed/Sample_4332-GABA/R1-merge_val_1.fq.gz /cndd3/dburrows/DATA/te/rna/PE.fastq/trimmed/Sample_4332-GABA/R2-merge_val_2.fq.gz\n",
      "/cndd3/dburrows/DATA/te/rna/PE.fastq/trimmed/Sample_1848-GABA/R1-merge_val_1.fq.gz /cndd3/dburrows/DATA/te/rna/PE.fastq/trimmed/Sample_1848-GABA/R2-merge_val_2.fq.gz\n",
      "/cndd3/dburrows/DATA/te/rna/PE.fastq/trimmed/Sample_Hct17HEIA010-GABA/R1-merge_val_1.fq.gz /cndd3/dburrows/DATA/te/rna/PE.fastq/trimmed/Sample_Hct17HEIA010-GABA/R2-merge_val_2.fq.gz\n",
      "/cndd3/dburrows/DATA/te/rna/PE.fastq/trimmed/Sample_4369-GLU/R1-merge_val_1.fq.gz /cndd3/dburrows/DATA/te/rna/PE.fastq/trimmed/Sample_4369-GLU/R2-merge_val_2.fq.gz\n",
      "/cndd3/dburrows/DATA/te/rna/PE.fastq/trimmed/Sample_5744-GABA/R1-merge_val_1.fq.gz /cndd3/dburrows/DATA/te/rna/PE.fastq/trimmed/Sample_5744-GABA/R2-merge_val_2.fq.gz\n",
      "/cndd3/dburrows/DATA/te/rna/PE.fastq/trimmed/Sample_5401-GABA/R1-merge_val_1.fq.gz /cndd3/dburrows/DATA/te/rna/PE.fastq/trimmed/Sample_5401-GABA/R2-merge_val_2.fq.gz\n",
      "/cndd3/dburrows/DATA/te/rna/PE.fastq/trimmed/Sample_HCTZZNA014-GLU/R1-merge_val_1.fq.gz /cndd3/dburrows/DATA/te/rna/PE.fastq/trimmed/Sample_HCTZZNA014-GLU/R2-merge_val_2.fq.gz\n",
      "/cndd3/dburrows/DATA/te/rna/PE.fastq/trimmed/Sample_HCT16HCQA020-GLU/R1-merge_val_1.fq.gz /cndd3/dburrows/DATA/te/rna/PE.fastq/trimmed/Sample_HCT16HCQA020-GLU/R2-merge_val_2.fq.gz\n",
      "/cndd3/dburrows/DATA/te/rna/PE.fastq/trimmed/Sample_5293-GABA/R1-merge_val_1.fq.gz /cndd3/dburrows/DATA/te/rna/PE.fastq/trimmed/Sample_5293-GABA/R2-merge_val_2.fq.gz\n",
      "/cndd3/dburrows/DATA/te/rna/PE.fastq/trimmed/Sample_5871-GLU/R1-merge_val_1.fq.gz /cndd3/dburrows/DATA/te/rna/PE.fastq/trimmed/Sample_5871-GLU/R2-merge_val_2.fq.gz\n",
      "/cndd3/dburrows/DATA/te/rna/PE.fastq/trimmed/Sample_4411-GLU/R1-merge_val_1.fq.gz /cndd3/dburrows/DATA/te/rna/PE.fastq/trimmed/Sample_4411-GLU/R2-merge_val_2.fq.gz\n",
      "/cndd3/dburrows/DATA/te/rna/PE.fastq/trimmed/Sample_5309-GLU/R1-merge_val_1.fq.gz /cndd3/dburrows/DATA/te/rna/PE.fastq/trimmed/Sample_5309-GLU/R2-merge_val_2.fq.gz\n",
      "/cndd3/dburrows/DATA/te/rna/PE.fastq/trimmed/Sample_4425-GABA/R1-merge_val_1.fq.gz /cndd3/dburrows/DATA/te/rna/PE.fastq/trimmed/Sample_4425-GABA/R2-merge_val_2.fq.gz\n",
      "/cndd3/dburrows/DATA/te/rna/PE.fastq/trimmed/Sample_6007-GABA/R1-merge_val_1.fq.gz /cndd3/dburrows/DATA/te/rna/PE.fastq/trimmed/Sample_6007-GABA/R2-merge_val_2.fq.gz\n",
      "/cndd3/dburrows/DATA/te/rna/PE.fastq/trimmed/Sample_HCT15HBMA007-GLU/R1-merge_val_1.fq.gz /cndd3/dburrows/DATA/te/rna/PE.fastq/trimmed/Sample_HCT15HBMA007-GLU/R2-merge_val_2.fq.gz\n",
      "/cndd3/dburrows/DATA/te/rna/PE.fastq/trimmed/Sample_4414-GABA/R1-merge_val_1.fq.gz /cndd3/dburrows/DATA/te/rna/PE.fastq/trimmed/Sample_4414-GABA/R2-merge_val_2.fq.gz\n",
      "/cndd3/dburrows/DATA/te/rna/PE.fastq/trimmed/Sample_1133-GABA/R1-merge_val_1.fq.gz /cndd3/dburrows/DATA/te/rna/PE.fastq/trimmed/Sample_1133-GABA/R2-merge_val_2.fq.gz\n",
      "/cndd3/dburrows/DATA/te/rna/PE.fastq/trimmed/Sample_4369-GABA/R1-merge_val_1.fq.gz /cndd3/dburrows/DATA/te/rna/PE.fastq/trimmed/Sample_4369-GABA/R2-merge_val_2.fq.gz\n",
      "/cndd3/dburrows/DATA/te/rna/PE.fastq/trimmed/Sample_5977-GABA/R1-merge_val_1.fq.gz /cndd3/dburrows/DATA/te/rna/PE.fastq/trimmed/Sample_5977-GABA/R2-merge_val_2.fq.gz\n",
      "/cndd3/dburrows/DATA/te/rna/PE.fastq/trimmed/Sample_5871-GABA/R1-merge_val_1.fq.gz /cndd3/dburrows/DATA/te/rna/PE.fastq/trimmed/Sample_5871-GABA/R2-merge_val_2.fq.gz\n",
      "/cndd3/dburrows/DATA/te/rna/PE.fastq/trimmed/Sample_HCK16HECA028-GABA/R1-merge_val_1.fq.gz /cndd3/dburrows/DATA/te/rna/PE.fastq/trimmed/Sample_HCK16HECA028-GABA/R2-merge_val_2.fq.gz\n",
      "/cndd3/dburrows/DATA/te/rna/PE.fastq/trimmed/Sample_5446-GABA/R1-merge_val_1.fq.gz /cndd3/dburrows/DATA/te/rna/PE.fastq/trimmed/Sample_5446-GABA/R2-merge_val_2.fq.gz\n",
      "/cndd3/dburrows/DATA/te/rna/PE.fastq/trimmed/Sample_5936-GLU/R1-merge_val_1.fq.gz /cndd3/dburrows/DATA/te/rna/PE.fastq/trimmed/Sample_5936-GLU/R2-merge_val_2.fq.gz\n",
      "/cndd3/dburrows/DATA/te/rna/PE.fastq/trimmed/Sample_6032-GABA/R1-merge_val_1.fq.gz /cndd3/dburrows/DATA/te/rna/PE.fastq/trimmed/Sample_6032-GABA/R2-merge_val_2.fq.gz\n",
      "/cndd3/dburrows/DATA/te/rna/PE.fastq/trimmed/Sample_HCTZZNA014-GABA/R1-merge_val_1.fq.gz /cndd3/dburrows/DATA/te/rna/PE.fastq/trimmed/Sample_HCTZZNA014-GABA/R2-merge_val_2.fq.gz\n",
      "/cndd3/dburrows/DATA/te/rna/PE.fastq/trimmed/Sample_4545-GABA/R1-merge_val_1.fq.gz /cndd3/dburrows/DATA/te/rna/PE.fastq/trimmed/Sample_4545-GABA/R2-merge_val_2.fq.gz\n",
      "/cndd3/dburrows/DATA/te/rna/PE.fastq/trimmed/Sample_4725-GLU/R1-merge_val_1.fq.gz /cndd3/dburrows/DATA/te/rna/PE.fastq/trimmed/Sample_4725-GLU/R2-merge_val_2.fq.gz\n",
      "/cndd3/dburrows/DATA/te/rna/PE.fastq/trimmed/Sample_5976-GLU/R1-merge_val_1.fq.gz /cndd3/dburrows/DATA/te/rna/PE.fastq/trimmed/Sample_5976-GLU/R2-merge_val_2.fq.gz\n",
      "/cndd3/dburrows/DATA/te/rna/PE.fastq/trimmed/Sample_5387-GLU/R1-merge_val_1.fq.gz /cndd3/dburrows/DATA/te/rna/PE.fastq/trimmed/Sample_5387-GLU/R2-merge_val_2.fq.gz\n",
      "/cndd3/dburrows/DATA/te/rna/PE.fastq/trimmed/Sample_1539-GLU/R1-merge_val_1.fq.gz /cndd3/dburrows/DATA/te/rna/PE.fastq/trimmed/Sample_1539-GLU/R2-merge_val_2.fq.gz\n",
      "/cndd3/dburrows/DATA/te/rna/PE.fastq/trimmed/Sample_198035-1765-GLU/R1-merge_val_1.fq.gz /cndd3/dburrows/DATA/te/rna/PE.fastq/trimmed/Sample_198035-1765-GLU/R2-merge_val_2.fq.gz\n",
      "/cndd3/dburrows/DATA/te/rna/PE.fastq/trimmed/Sample_Hct15HBNA032-GLU/R1-merge_val_1.fq.gz /cndd3/dburrows/DATA/te/rna/PE.fastq/trimmed/Sample_Hct15HBNA032-GLU/R2-merge_val_2.fq.gz\n",
      "/cndd3/dburrows/DATA/te/rna/PE.fastq/trimmed/Sample_5570-GABA/R1-merge_val_1.fq.gz /cndd3/dburrows/DATA/te/rna/PE.fastq/trimmed/Sample_5570-GABA/R2-merge_val_2.fq.gz\n",
      "/cndd3/dburrows/DATA/te/rna/PE.fastq/trimmed/Sample_6285-GABA/R1-merge_val_1.fq.gz /cndd3/dburrows/DATA/te/rna/PE.fastq/trimmed/Sample_6285-GABA/R2-merge_val_2.fq.gz\n",
      "/cndd3/dburrows/DATA/te/rna/PE.fastq/trimmed/Sample_1823-GABA/R1-merge_val_1.fq.gz /cndd3/dburrows/DATA/te/rna/PE.fastq/trimmed/Sample_1823-GABA/R2-merge_val_2.fq.gz\n",
      "/cndd3/dburrows/DATA/te/rna/PE.fastq/trimmed/Sample_5976-GABA/R1-merge_val_1.fq.gz /cndd3/dburrows/DATA/te/rna/PE.fastq/trimmed/Sample_5976-GABA/R2-merge_val_2.fq.gz\n",
      "/cndd3/dburrows/DATA/te/rna/PE.fastq/trimmed/Sample_1277-GABA/R1-merge_val_1.fq.gz /cndd3/dburrows/DATA/te/rna/PE.fastq/trimmed/Sample_1277-GABA/R2-merge_val_2.fq.gz\n",
      "/cndd3/dburrows/DATA/te/rna/PE.fastq/trimmed/Sample_HCT16HCQA020-GABA/R1-merge_val_1.fq.gz /cndd3/dburrows/DATA/te/rna/PE.fastq/trimmed/Sample_HCT16HCQA020-GABA/R2-merge_val_2.fq.gz\n",
      "/cndd3/dburrows/DATA/te/rna/PE.fastq/trimmed/Sample_5643-GLU/R1-merge_val_1.fq.gz /cndd3/dburrows/DATA/te/rna/PE.fastq/trimmed/Sample_5643-GLU/R2-merge_val_2.fq.gz\n",
      "/cndd3/dburrows/DATA/te/rna/PE.fastq/trimmed/Sample_5161-GABA/R1-merge_val_1.fq.gz /cndd3/dburrows/DATA/te/rna/PE.fastq/trimmed/Sample_5161-GABA/R2-merge_val_2.fq.gz\n",
      "/cndd3/dburrows/DATA/te/rna/PE.fastq/trimmed/Sample_179134-1401-GLU/R1-merge_val_1.fq.gz /cndd3/dburrows/DATA/te/rna/PE.fastq/trimmed/Sample_179134-1401-GLU/R2-merge_val_2.fq.gz\n",
      "/cndd3/dburrows/DATA/te/rna/PE.fastq/trimmed/Sample_4321-GLU/R1-merge_val_1.fq.gz /cndd3/dburrows/DATA/te/rna/PE.fastq/trimmed/Sample_4321-GLU/R2-merge_val_2.fq.gz\n",
      "/cndd3/dburrows/DATA/te/rna/PE.fastq/trimmed/Sample_4411-GABA/R1-merge_val_1.fq.gz /cndd3/dburrows/DATA/te/rna/PE.fastq/trimmed/Sample_4411-GABA/R2-merge_val_2.fq.gz\n",
      "/cndd3/dburrows/DATA/te/rna/PE.fastq/trimmed/Sample_174051-1241-GABA/R1-merge_val_1.fq.gz /cndd3/dburrows/DATA/te/rna/PE.fastq/trimmed/Sample_174051-1241-GABA/R2-merge_val_2.fq.gz\n",
      "/cndd3/dburrows/DATA/te/rna/PE.fastq/trimmed/Sample_5326-GABA/R1-merge_val_1.fq.gz /cndd3/dburrows/DATA/te/rna/PE.fastq/trimmed/Sample_5326-GABA/R2-merge_val_2.fq.gz\n",
      "/cndd3/dburrows/DATA/te/rna/PE.fastq/trimmed/Sample_1133-GLU/R1-merge_val_1.fq.gz /cndd3/dburrows/DATA/te/rna/PE.fastq/trimmed/Sample_1133-GLU/R2-merge_val_2.fq.gz\n",
      "/cndd3/dburrows/DATA/te/rna/PE.fastq/trimmed/Sample_6285-GLU/R1-merge_val_1.fq.gz /cndd3/dburrows/DATA/te/rna/PE.fastq/trimmed/Sample_6285-GLU/R2-merge_val_2.fq.gz\n",
      "/cndd3/dburrows/DATA/te/rna/PE.fastq/trimmed/Sample_4425-GLU/R1-merge_val_1.fq.gz /cndd3/dburrows/DATA/te/rna/PE.fastq/trimmed/Sample_4425-GLU/R2-merge_val_2.fq.gz\n",
      "/cndd3/dburrows/DATA/te/rna/PE.fastq/trimmed/Sample_3739-GLU/R1-merge_val_1.fq.gz /cndd3/dburrows/DATA/te/rna/PE.fastq/trimmed/Sample_3739-GLU/R2-merge_val_2.fq.gz\n",
      "/cndd3/dburrows/DATA/te/rna/PE.fastq/trimmed/Sample_1134-GLU/R1-merge_val_1.fq.gz /cndd3/dburrows/DATA/te/rna/PE.fastq/trimmed/Sample_1134-GLU/R2-merge_val_2.fq.gz\n",
      "/cndd3/dburrows/DATA/te/rna/PE.fastq/trimmed/Sample_HCK16HECA028-GLU/R1-merge_val_1.fq.gz /cndd3/dburrows/DATA/te/rna/PE.fastq/trimmed/Sample_HCK16HECA028-GLU/R2-merge_val_2.fq.gz\n",
      "/cndd3/dburrows/DATA/te/rna/PE.fastq/trimmed/Sample_5077-GABA/R1-merge_val_1.fq.gz /cndd3/dburrows/DATA/te/rna/PE.fastq/trimmed/Sample_5077-GABA/R2-merge_val_2.fq.gz\n",
      "/cndd3/dburrows/DATA/te/rna/PE.fastq/trimmed/Sample_5977-GLU/R1-merge_val_1.fq.gz /cndd3/dburrows/DATA/te/rna/PE.fastq/trimmed/Sample_5977-GLU/R2-merge_val_2.fq.gz\n",
      "/cndd3/dburrows/DATA/te/rna/PE.fastq/trimmed/Sample_5744-GLU/R1-merge_val_1.fq.gz /cndd3/dburrows/DATA/te/rna/PE.fastq/trimmed/Sample_5744-GLU/R2-merge_val_2.fq.gz\n",
      "/cndd3/dburrows/DATA/te/rna/PE.fastq/trimmed/Sample_HCTYPA008-GABA/R1-merge_val_1.fq.gz /cndd3/dburrows/DATA/te/rna/PE.fastq/trimmed/Sample_HCTYPA008-GABA/R2-merge_val_2.fq.gz\n",
      "/cndd3/dburrows/DATA/te/rna/PE.fastq/trimmed/Sample_4337-GLU/R1-merge_val_1.fq.gz /cndd3/dburrows/DATA/te/rna/PE.fastq/trimmed/Sample_4337-GLU/R2-merge_val_2.fq.gz\n",
      "/cndd3/dburrows/DATA/te/rna/PE.fastq/trimmed/Sample_5086-GABA/R1-merge_val_1.fq.gz /cndd3/dburrows/DATA/te/rna/PE.fastq/trimmed/Sample_5086-GABA/R2-merge_val_2.fq.gz\n",
      "/cndd3/dburrows/DATA/te/rna/PE.fastq/trimmed/Sample_5570-GLU/R1-merge_val_1.fq.gz /cndd3/dburrows/DATA/te/rna/PE.fastq/trimmed/Sample_5570-GLU/R2-merge_val_2.fq.gz\n",
      "/cndd3/dburrows/DATA/te/rna/PE.fastq/trimmed/Sample_1275-GLU/R1-merge_val_1.fq.gz /cndd3/dburrows/DATA/te/rna/PE.fastq/trimmed/Sample_1275-GLU/R2-merge_val_2.fq.gz\n",
      "/cndd3/dburrows/DATA/te/rna/PE.fastq/trimmed/Sample_4337-GABA/R1-merge_val_1.fq.gz /cndd3/dburrows/DATA/te/rna/PE.fastq/trimmed/Sample_4337-GABA/R2-merge_val_2.fq.gz\n",
      "/cndd3/dburrows/DATA/te/rna/PE.fastq/trimmed/Sample_5184-GABA/R1-merge_val_1.fq.gz /cndd3/dburrows/DATA/te/rna/PE.fastq/trimmed/Sample_5184-GABA/R2-merge_val_2.fq.gz\n",
      "/cndd3/dburrows/DATA/te/rna/PE.fastq/trimmed/Sample_4379-GLU/R1-merge_val_1.fq.gz /cndd3/dburrows/DATA/te/rna/PE.fastq/trimmed/Sample_4379-GLU/R2-merge_val_2.fq.gz\n",
      "/cndd3/dburrows/DATA/te/rna/PE.fastq/trimmed/Sample_5918-GABA/R1-merge_val_1.fq.gz /cndd3/dburrows/DATA/te/rna/PE.fastq/trimmed/Sample_5918-GABA/R2-merge_val_2.fq.gz\n",
      "/cndd3/dburrows/DATA/te/rna/PE.fastq/trimmed/Sample_5643-GABA/R1-merge_val_1.fq.gz /cndd3/dburrows/DATA/te/rna/PE.fastq/trimmed/Sample_5643-GABA/R2-merge_val_2.fq.gz\n",
      "/cndd3/dburrows/DATA/te/rna/PE.fastq/trimmed/Sample_198034-1435-GLU/R1-merge_val_1.fq.gz /cndd3/dburrows/DATA/te/rna/PE.fastq/trimmed/Sample_198034-1435-GLU/R2-merge_val_2.fq.gz\n",
      "/cndd3/dburrows/DATA/te/rna/PE.fastq/trimmed/Sample_4428-GABA/R1-merge_val_1.fq.gz /cndd3/dburrows/DATA/te/rna/PE.fastq/trimmed/Sample_4428-GABA/R2-merge_val_2.fq.gz\n",
      "/cndd3/dburrows/DATA/te/rna/PE.fastq/trimmed/Sample_1539-GABA/R1-merge_val_1.fq.gz /cndd3/dburrows/DATA/te/rna/PE.fastq/trimmed/Sample_1539-GABA/R2-merge_val_2.fq.gz\n",
      "/cndd3/dburrows/DATA/te/rna/PE.fastq/trimmed/Sample_4321-GABA/R1-merge_val_1.fq.gz /cndd3/dburrows/DATA/te/rna/PE.fastq/trimmed/Sample_4321-GABA/R2-merge_val_2.fq.gz\n",
      "/cndd3/dburrows/DATA/te/rna/PE.fastq/trimmed/Sample_1275-GABA/R1-merge_val_1.fq.gz /cndd3/dburrows/DATA/te/rna/PE.fastq/trimmed/Sample_1275-GABA/R2-merge_val_2.fq.gz\n",
      "/cndd3/dburrows/DATA/te/rna/PE.fastq/trimmed/Sample_5606-GABA/R1-merge_val_1.fq.gz /cndd3/dburrows/DATA/te/rna/PE.fastq/trimmed/Sample_5606-GABA/R2-merge_val_2.fq.gz\n",
      "/cndd3/dburrows/DATA/te/rna/PE.fastq/trimmed/Sample_1535-GLU/R1-merge_val_1.fq.gz /cndd3/dburrows/DATA/te/rna/PE.fastq/trimmed/Sample_1535-GLU/R2-merge_val_2.fq.gz\n",
      "/cndd3/dburrows/DATA/te/rna/PE.fastq/trimmed/Sample_6007-GLU/R1-merge_val_1.fq.gz /cndd3/dburrows/DATA/te/rna/PE.fastq/trimmed/Sample_6007-GLU/R2-merge_val_2.fq.gz\n",
      "/cndd3/dburrows/DATA/te/rna/PE.fastq/trimmed/Sample_5326-GLU/R1-merge_val_1.fq.gz /cndd3/dburrows/DATA/te/rna/PE.fastq/trimmed/Sample_5326-GLU/R2-merge_val_2.fq.gz\n",
      "/cndd3/dburrows/DATA/te/rna/PE.fastq/trimmed/Sample_5309-GABA/R1-merge_val_1.fq.gz /cndd3/dburrows/DATA/te/rna/PE.fastq/trimmed/Sample_5309-GABA/R2-merge_val_2.fq.gz\n",
      "/cndd3/dburrows/DATA/te/rna/PE.fastq/trimmed/Sample_1134-GABA/R1-merge_val_1.fq.gz /cndd3/dburrows/DATA/te/rna/PE.fastq/trimmed/Sample_1134-GABA/R2-merge_val_2.fq.gz\n",
      "/cndd3/dburrows/DATA/te/rna/PE.fastq/trimmed/Sample_1105-GABA/R1-merge_val_1.fq.gz /cndd3/dburrows/DATA/te/rna/PE.fastq/trimmed/Sample_1105-GABA/R2-merge_val_2.fq.gz\n",
      "/cndd3/dburrows/DATA/te/rna/PE.fastq/trimmed/Sample_6032-GLU/R1-merge_val_1.fq.gz /cndd3/dburrows/DATA/te/rna/PE.fastq/trimmed/Sample_6032-GLU/R2-merge_val_2.fq.gz\n",
      "/cndd3/dburrows/DATA/te/rna/PE.fastq/trimmed/Sample_HCT15HAWA031-GABA/R1-merge_val_1.fq.gz /cndd3/dburrows/DATA/te/rna/PE.fastq/trimmed/Sample_HCT15HAWA031-GABA/R2-merge_val_2.fq.gz\n",
      "/cndd3/dburrows/DATA/te/rna/PE.fastq/trimmed/Sample_5184-GLU/R1-merge_val_1.fq.gz /cndd3/dburrows/DATA/te/rna/PE.fastq/trimmed/Sample_5184-GLU/R2-merge_val_2.fq.gz\n",
      "/cndd3/dburrows/DATA/te/rna/PE.fastq/trimmed/Sample_5293-GLU/R1-merge_val_1.fq.gz /cndd3/dburrows/DATA/te/rna/PE.fastq/trimmed/Sample_5293-GLU/R2-merge_val_2.fq.gz\n",
      "/cndd3/dburrows/DATA/te/rna/PE.fastq/trimmed/Sample_1823-GLU/R1-merge_val_1.fq.gz /cndd3/dburrows/DATA/te/rna/PE.fastq/trimmed/Sample_1823-GLU/R2-merge_val_2.fq.gz\n",
      "/cndd3/dburrows/DATA/te/rna/PE.fastq/trimmed/Sample_4414-GLU/R1-merge_val_1.fq.gz /cndd3/dburrows/DATA/te/rna/PE.fastq/trimmed/Sample_4414-GLU/R2-merge_val_2.fq.gz\n",
      "/cndd3/dburrows/DATA/te/rna/PE.fastq/trimmed/Sample_1105-GLU/R1-merge_val_1.fq.gz /cndd3/dburrows/DATA/te/rna/PE.fastq/trimmed/Sample_1105-GLU/R2-merge_val_2.fq.gz\n",
      "/cndd3/dburrows/DATA/te/rna/PE.fastq/trimmed/Sample_5401-GLU/R1-merge_val_1.fq.gz /cndd3/dburrows/DATA/te/rna/PE.fastq/trimmed/Sample_5401-GLU/R2-merge_val_2.fq.gz\n",
      "/cndd3/dburrows/DATA/te/rna/PE.fastq/trimmed/Sample_198034-1435-GABA/R1-merge_val_1.fq.gz /cndd3/dburrows/DATA/te/rna/PE.fastq/trimmed/Sample_198034-1435-GABA/R2-merge_val_2.fq.gz\n",
      "/cndd3/dburrows/DATA/te/rna/PE.fastq/trimmed/Sample_4545-GLU/R1-merge_val_1.fq.gz /cndd3/dburrows/DATA/te/rna/PE.fastq/trimmed/Sample_4545-GLU/R2-merge_val_2.fq.gz\n",
      "/cndd3/dburrows/DATA/te/rna/PE.fastq/trimmed/Sample_5787-GLU/R1-merge_val_1.fq.gz /cndd3/dburrows/DATA/te/rna/PE.fastq/trimmed/Sample_5787-GLU/R2-merge_val_2.fq.gz\n",
      "/cndd3/dburrows/DATA/te/rna/PE.fastq/trimmed/Sample_1648-GLU/R1-merge_val_1.fq.gz /cndd3/dburrows/DATA/te/rna/PE.fastq/trimmed/Sample_1648-GLU/R2-merge_val_2.fq.gz\n",
      "/cndd3/dburrows/DATA/te/rna/PE.fastq/trimmed/Sample_4428-GLU/R1-merge_val_1.fq.gz /cndd3/dburrows/DATA/te/rna/PE.fastq/trimmed/Sample_4428-GLU/R2-merge_val_2.fq.gz\n",
      "/cndd3/dburrows/DATA/te/rna/PE.fastq/trimmed/Sample_Hct15HBNA032-GABA/R1-merge_val_1.fq.gz /cndd3/dburrows/DATA/te/rna/PE.fastq/trimmed/Sample_Hct15HBNA032-GABA/R2-merge_val_2.fq.gz\n",
      "/cndd3/dburrows/DATA/te/rna/PE.fastq/trimmed/Sample_5446-GLU/R1-merge_val_1.fq.gz /cndd3/dburrows/DATA/te/rna/PE.fastq/trimmed/Sample_5446-GLU/R2-merge_val_2.fq.gz\n",
      "/cndd3/dburrows/DATA/te/rna/PE.fastq/trimmed/Sample_5787-GABA/R1-merge_val_1.fq.gz /cndd3/dburrows/DATA/te/rna/PE.fastq/trimmed/Sample_5787-GABA/R2-merge_val_2.fq.gz\n",
      "/cndd3/dburrows/DATA/te/rna/PE.fastq/trimmed/Sample_5451-GABA/R1-merge_val_1.fq.gz /cndd3/dburrows/DATA/te/rna/PE.fastq/trimmed/Sample_5451-GABA/R2-merge_val_2.fq.gz\n",
      "/cndd3/dburrows/DATA/te/rna/PE.fastq/trimmed/Sample_5077-GLU/R1-merge_val_1.fq.gz /cndd3/dburrows/DATA/te/rna/PE.fastq/trimmed/Sample_5077-GLU/R2-merge_val_2.fq.gz\n",
      "/cndd3/dburrows/DATA/te/rna/PE.fastq/trimmed/Sample_5617-GABA/R1-merge_val_1.fq.gz /cndd3/dburrows/DATA/te/rna/PE.fastq/trimmed/Sample_5617-GABA/R2-merge_val_2.fq.gz\n",
      "/cndd3/dburrows/DATA/te/rna/PE.fastq/trimmed/Sample_1277-GLU/R1-merge_val_1.fq.gz /cndd3/dburrows/DATA/te/rna/PE.fastq/trimmed/Sample_1277-GLU/R2-merge_val_2.fq.gz\n",
      "/cndd3/dburrows/DATA/te/rna/PE.fastq/trimmed/Sample_179134-1401-GABA/R1-merge_val_1.fq.gz /cndd3/dburrows/DATA/te/rna/PE.fastq/trimmed/Sample_179134-1401-GABA/R2-merge_val_2.fq.gz\n",
      "/cndd3/dburrows/DATA/te/rna/PE.fastq/trimmed/Sample_5936-GABA/R1-merge_val_1.fq.gz /cndd3/dburrows/DATA/te/rna/PE.fastq/trimmed/Sample_5936-GABA/R2-merge_val_2.fq.gz\n",
      "/cndd3/dburrows/DATA/te/rna/PE.fastq/trimmed/Sample_5451-GLU/R1-merge_val_1.fq.gz /cndd3/dburrows/DATA/te/rna/PE.fastq/trimmed/Sample_5451-GLU/R2-merge_val_2.fq.gz\n",
      "/cndd3/dburrows/DATA/te/rna/PE.fastq/trimmed/Sample_4332-GLU/R1-merge_val_1.fq.gz /cndd3/dburrows/DATA/te/rna/PE.fastq/trimmed/Sample_4332-GLU/R2-merge_val_2.fq.gz\n",
      "/cndd3/dburrows/DATA/te/rna/PE.fastq/trimmed/Sample_5161-GLU/R1-merge_val_1.fq.gz /cndd3/dburrows/DATA/te/rna/PE.fastq/trimmed/Sample_5161-GLU/R2-merge_val_2.fq.gz\n",
      "/cndd3/dburrows/DATA/te/rna/PE.fastq/trimmed/Sample_5617-GLU/R1-merge_val_1.fq.gz /cndd3/dburrows/DATA/te/rna/PE.fastq/trimmed/Sample_5617-GLU/R2-merge_val_2.fq.gz\n",
      "/cndd3/dburrows/DATA/te/rna/PE.fastq/trimmed/Sample_4725-GABA/R1-merge_val_1.fq.gz /cndd3/dburrows/DATA/te/rna/PE.fastq/trimmed/Sample_4725-GABA/R2-merge_val_2.fq.gz\n",
      "/cndd3/dburrows/DATA/te/rna/PE.fastq/trimmed/Sample_5918-GLU/R1-merge_val_1.fq.gz /cndd3/dburrows/DATA/te/rna/PE.fastq/trimmed/Sample_5918-GLU/R2-merge_val_2.fq.gz\n",
      "/cndd3/dburrows/DATA/te/rna/PE.fastq/trimmed/Sample_HCT15HBMA007-GABA/R1-merge_val_1.fq.gz /cndd3/dburrows/DATA/te/rna/PE.fastq/trimmed/Sample_HCT15HBMA007-GABA/R2-merge_val_2.fq.gz\n",
      "/cndd3/dburrows/DATA/te/rna/PE.fastq/trimmed/Sample_5606-GLU/R1-merge_val_1.fq.gz /cndd3/dburrows/DATA/te/rna/PE.fastq/trimmed/Sample_5606-GLU/R2-merge_val_2.fq.gz\n",
      "/cndd3/dburrows/DATA/te/rna/PE.fastq/trimmed/Sample_174051-1241-GLU/R1-merge_val_1.fq.gz /cndd3/dburrows/DATA/te/rna/PE.fastq/trimmed/Sample_174051-1241-GLU/R2-merge_val_2.fq.gz\n",
      "/cndd3/dburrows/DATA/te/rna/PE.fastq/trimmed/Sample_HCT15HAWA031-GLU/R1-merge_val_1.fq.gz /cndd3/dburrows/DATA/te/rna/PE.fastq/trimmed/Sample_HCT15HAWA031-GLU/R2-merge_val_2.fq.gz\n",
      "/cndd3/dburrows/DATA/te/rna/PE.fastq/trimmed/Sample_1648-GABA/R1-merge_val_1.fq.gz /cndd3/dburrows/DATA/te/rna/PE.fastq/trimmed/Sample_1648-GABA/R2-merge_val_2.fq.gz\n",
      "/cndd3/dburrows/DATA/te/rna/PE.fastq/trimmed/Sample_5387-GABA/R1-merge_val_1.fq.gz /cndd3/dburrows/DATA/te/rna/PE.fastq/trimmed/Sample_5387-GABA/R2-merge_val_2.fq.gz\n",
      "/cndd3/dburrows/DATA/te/rna/PE.fastq/trimmed/Sample_Hct17HEIA010-GLU/R1-merge_val_1.fq.gz /cndd3/dburrows/DATA/te/rna/PE.fastq/trimmed/Sample_Hct17HEIA010-GLU/R2-merge_val_2.fq.gz\n",
      "/cndd3/dburrows/DATA/te/rna/PE.fastq/trimmed/Sample_1848-GLU/R1-merge_val_1.fq.gz /cndd3/dburrows/DATA/te/rna/PE.fastq/trimmed/Sample_1848-GLU/R2-merge_val_2.fq.gz\n",
      "/cndd3/dburrows/DATA/te/rna/PE.fastq/trimmed/Sample_198035-1765-GABA/R1-merge_val_1.fq.gz /cndd3/dburrows/DATA/te/rna/PE.fastq/trimmed/Sample_198035-1765-GABA/R2-merge_val_2.fq.gz\n"
     ]
    }
   ],
   "source": [
    "%%bash\n",
    "str=$1\n",
    "\n",
    "#Define paths and variables\n",
    "inpath=/cndd3/dburrows/DATA/te/rna/PE.fastq/trimmed\n",
    "outpath=/cndd3/dburrows/DATA/te/rna/PE.bam/\n",
    "id_arr=($(find $inpath/ -maxdepth 1 -name \"*Sample*$str*\"))\n",
    "\n",
    "#Loop over each sample\n",
    "for i in ${id_arr[@]}\n",
    "do\n",
    "    echo Running $i \n",
    "    r1=$i/R1-merge_val_1.fq.gz\n",
    "    r2=$i/R2-merge_val_2.fq.gz\n",
    "    \n",
    "    mkdir $outpath/$(basename $i)\n",
    "    cd $outpath/$(basename $i)\n",
    "\n",
    "    STAR --genomeDir /cndd3/dburrows/DATA/te/gtf//annotations/gencode/STAR.gencode.v37 --readFilesIn $r1 $r2 --outSAMunmapped None --outFilterType BySJout --outSAMattributes All --outFilterMultimapNmax 100 --outFilterMismatchNmax 999 --outFilterMismatchNoverReadLmax 0.04 --alignIntronMin 20 --alignIntronMax 1000000 --alignMatesGapMax 1000000 --alignSJoverhangMin 8 --alignSJDBoverhangMin 1 --sjdbScore 1 --readFilesCommand zcat --runThreadN 16 --genomeLoad LoadAndKeep --limitBAMsortRAM 10000000000 --outSAMtype BAM SortedByCoordinate --quantMode TranscriptomeSAM GeneCounts --winAnchorMultimapNmax 200 --outMultimapperOrder Random --outSAMmultNmax -1 \n",
    "    samtools index Aligned.sortedByCoord.out.bam\n",
    "    cp $CODE3/te_ageing/workspace.sh $outpath/$(basename $i)/log.workspace\n",
    "done\n",
    "\n",
    "\n",
    "\n"
   ]
  },
  {
   "cell_type": "code",
   "execution_count": 62,
   "metadata": {},
   "outputs": [],
   "source": [
    "#Check that all files are present\n",
    "import glob\n",
    "import os\n",
    "\n",
    "full_l = os.listdir('/cndd2/Public_Datasets/Dracheva_PsychEncode_development/raw_May2022/') \n",
    "os.chdir('/cndd3/dburrows/DATA/te/rna/PE.fastq/trimmed/')\n",
    "check_l = glob.glob('*Samp*')\n",
    "\n",
    "import numpy as np\n",
    "not_int = np.setxor1d(check_l, full_l)\n",
    "assert len(full_l) == len(check_l)\n",
    "assert len(not_int) == 0"
   ]
  },
  {
   "cell_type": "code",
   "execution_count": 54,
   "metadata": {},
   "outputs": [
    {
     "data": {
      "text/plain": [
       "array(['Sample_1133-GLU'], dtype='<U24')"
      ]
     },
     "execution_count": 54,
     "metadata": {},
     "output_type": "execute_result"
    }
   ],
   "source": [
    "not_int"
   ]
  },
  {
   "cell_type": "code",
   "execution_count": 63,
   "metadata": {},
   "outputs": [],
   "source": [
    "# Check that each file contains correct information\n",
    "\n",
    "import glob\n",
    "import os\n",
    "\n",
    "os.chdir('/cndd3/dburrows/DATA/te/rna/PE.fastq/trimmed/')\n",
    "for n in os.listdir():\n",
    "    curr = os.listdir('/cndd3/dburrows/DATA/te/rna/PE.fastq/trimmed/' + n)\n",
    "    if 'R1-merge_val_1.fq.gz' not in curr or 'R2-merge_val_2.fq.gz' not in curr or 'log.workspace' not in curr or 'log.trim_galore' not in curr or 'R1-merge.fastq.gz_trimming_report.txt' not in curr or 'R2-merge.fastq.gz_trimming_report.txt' not in curr:\n",
    "        print('Found ' + n)\n",
    "        print(sorted(curr))   "
   ]
  },
  {
   "cell_type": "code",
   "execution_count": null,
   "metadata": {
    "vscode": {
     "languageId": "shellscript"
    }
   },
   "outputs": [],
   "source": [
    "STAR --genomeDir /cndd3/dburrows/DATA/te/gtf//annotations/gencode/STAR.gencode.v37 --readFilesIn /cndd3/dburrows/DATA/te/rna/PE.fastq/trimmed/prac/R1-merge_val_1.fq.gz /cndd3/dburrows/DATA/te/rna/PE.fastq/trimmed/prac/R2-merge_val_2.fq.gz --outSAMunmapped None --outFilterType BySJout --outSAMattributes All --outFilterMultimapNmax 100 --outFilterMismatchNmax 999 --outFilterMismatchNoverReadLmax 0.04 --alignIntronMin 20 --alignIntronMax 1000000 --alignMatesGapMax 1000000 --alignSJoverhangMin 8 --alignSJDBoverhangMin 1 --sjdbScore 1 --readFilesCommand zcat --runThreadN 16 --genomeLoad LoadAndKeep --limitBAMsortRAM 10000000000 --outSAMtype BAM SortedByCoordinate --quantMode TranscriptomeSAM GeneCounts --winAnchorMultimapNmax 200 --outMultimapperOrder Random --outSAMmultNmax -1 "
   ]
  },
  {
   "cell_type": "code",
   "execution_count": null,
   "metadata": {
    "vscode": {
     "languageId": "shellscript"
    }
   },
   "outputs": [],
   "source": [
    "STAR --genomeDir /cndd3/dburrows/DATA/te/gtf/genome/STAR.hg38.gencode_v37 --readFilesIn /cndd3/dburrows/DATA/te/rna/PE.fastq/trimmed/Sample_Hct15HBNA032-GLU/R1-merge_val_1.fq.gz /cndd3/dburrows/DATA/te/rna/PE.fastq/trimmed/Sample_Hct15HBNA032-GLU/R2-merge_val_2.fq.gz --outSAMunmapped None --outFilterType BySJout --outSAMattributes All --outFilterMultimapNmax 100 --outFilterMismatchNmax 999 --outFilterMismatchNoverReadLmax 0.04 --alignIntronMin 20 --alignIntronMax 1000000 --alignMatesGapMax 1000000 --alignSJoverhangMin 8 --alignSJDBoverhangMin 1 --sjdbScore 1 --readFilesCommand zcat --runThreadN 16 --genomeLoad LoadAndKeep --limitBAMsortRAM 10000000000 --outSAMtype BAM SortedByCoordinate --quantMode TranscriptomeSAM GeneCounts --winAnchorMultimapNmax 200 --outMultimapperOrder Random --outSAMmultNmax -1 -> log.out"
   ]
  },
  {
   "cell_type": "code",
   "execution_count": null,
   "metadata": {
    "vscode": {
     "languageId": "shellscript"
    }
   },
   "outputs": [],
   "source": [
    "STAR --genomeDir /cndd3/dburrows/DATA/te/gtf//annotations/gencode/STAR.gencode.v37 --readFilesIn /cndd3/dburrows/DATA/te/rna/PE.fastq/trimmed/pra\n",
    "c/R1-merge_val_1.fq.gz /cndd3/dburrows/DATA/te/rna/PE.fastq/trimmed/prac/R2-merge_val_2.fq.gz --outSAMunmapped None --outFilterType BySJout --out\n",
    "SAMattributes All --outFilterMultimapNmax 100 --outFilterMismatchNmax 999 --outFilterMismatchNoverReadLmax 0.04 --alignIntronMin 20 --alignIntron\n",
    "Max 1000000 --alignMatesGapMax 1000000 --alignSJoverhangMin 8 --alignSJDBoverhangMin 1 --sjdbScore 1 --readFilesCommand zcat --runThreadN 16 --ge\n",
    "nomeLoad LoadAndKeep --limitBAMsortRAM 10000000000 --outSAMtype BAM SortedByCoordinate --quantMode TranscriptomeSAM GeneCounts --winAnchorMultima\n",
    "pNmax 200 --outMultimapperOrder Random --outSAMmultNmax -1"
   ]
  },
  {
   "cell_type": "code",
   "execution_count": null,
   "metadata": {
    "vscode": {
     "languageId": "shellscript"
    }
   },
   "outputs": [],
   "source": [
    "STAR --runThreadN 20 --runMode genomeGenerate --genomeDir /cndd3/dburrows/DATA/te/gtf/genome/STAR.hg38.gencode_v37 --genomeFastaFiles /cndd3/dburrows/DATA/te/gtf/genome/hg38/hg38.fa --sjdbGTFfile /cndd3/dburrows/DATA/te/gtf/annotations/gencode/gencode.v37.annotation.hg38.gtf\n"
   ]
  }
 ],
 "metadata": {
  "kernelspec": {
   "display_name": "base",
   "language": "python",
   "name": "python3"
  },
  "language_info": {
   "codemirror_mode": {
    "name": "ipython",
    "version": 3
   },
   "file_extension": ".py",
   "mimetype": "text/x-python",
   "name": "python",
   "nbconvert_exporter": "python",
   "pygments_lexer": "ipython3",
   "version": "3.9.12"
  },
  "orig_nbformat": 4
 },
 "nbformat": 4,
 "nbformat_minor": 2
}
